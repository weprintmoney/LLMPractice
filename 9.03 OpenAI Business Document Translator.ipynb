{
  "nbformat": 4,
  "nbformat_minor": 0,
  "metadata": {
    "colab": {
      "provenance": [],
      "mount_file_id": "1rW5Apfr9H28cotnzpfRuG0tYXbEUGjFj",
      "authorship_tag": "ABX9TyNwvJAo2JtFbDN+rqBFw43y"
    },
    "kernelspec": {
      "name": "python3",
      "display_name": "Python 3"
    },
    "language_info": {
      "name": "python"
    }
  },
  "cells": []
}