{
  "cells": [
    {
      "cell_type": "markdown",
      "metadata": {
        "id": "view-in-github",
        "colab_type": "text"
      },
      "source": [
        "<a href=\"https://colab.research.google.com/github/weprintmoney/LLMPractice/blob/main/MultiModalRAG.ipynb\" target=\"_parent\"><img src=\"https://colab.research.google.com/assets/colab-badge.svg\" alt=\"Open In Colab\"/></a>"
      ]
    },
    {
      "cell_type": "code",
      "execution_count": null,
      "metadata": {
        "id": "bCIMTPB1WoTq"
      },
      "outputs": [],
      "source": [
        "# Copyright 2024 Google LLC\n",
        "#\n",
        "# Licensed under the Apache License, Version 2.0 (the \"License\");\n",
        "# you may not use this file except in compliance with the License.\n",
        "# You may obtain a copy of the License at\n",
        "#\n",
        "#     https://www.apache.org/licenses/LICENSE-2.0\n",
        "#\n",
        "# Unless required by applicable law or agreed to in writing, software\n",
        "# distributed under the License is distributed on an \"AS IS\" BASIS,\n",
        "# WITHOUT WARRANTIES OR CONDITIONS OF ANY KIND, either express or implied.\n",
        "# See the License for the specific language governing permissions and\n",
        "# limitations under the License."
      ]
    },
    {
      "cell_type": "markdown",
      "metadata": {
        "id": "7yVV6txOmNMn"
      },
      "source": [
        "# Basic prototyping of the solution with Vertex AI Gemini API\n",
        "\n",
        "\n",
        "<table align=\"left\">\n",
        "  <td style=\"text-align: center\">\n",
        "    <a href=\"https://colab.research.google.com/github/GoogleCloudPlatform/generative-ai/blob/main/workshops/rag-ops/1_prototyping_gemini.ipynb\">\n",
        "      <img src=\"https://cloud.google.com/ml-engine/images/colab-logo-32px.png\" alt=\"Google Colaboratory logo\"><br> Open in Colab\n",
        "    </a>\n",
        "  </td>\n",
        "  <td style=\"text-align: center\">\n",
        "    <a href=\"https://console.cloud.google.com/vertex-ai/colab/import/https:%2F%2Fraw.githubusercontent.com%2FGoogleCloudPlatform%2Fgenerative-ai%2Fmain%2Fworkshops%2Frag-ops%2F1_prototyping_gemini.ipynb\">\n",
        "      <img width=\"32px\" src=\"https://lh3.googleusercontent.com/JmcxdQi-qOpctIvWKgPtrzZdJJK-J3sWE1RsfjZNwshCFgE_9fULcNpuXYTilIR2hjwN\" alt=\"Google Cloud Colab Enterprise logo\"><br> Open in Colab Enterprise\n",
        "    </a>\n",
        "  </td>    \n",
        "  <td style=\"text-align: center\">\n",
        "    <a href=\"https://console.cloud.google.com/vertex-ai/workbench/deploy-notebook?download_url=https://raw.githubusercontent.com/GoogleCloudPlatform/generative-ai/main/workshops/rag-ops/1_prototyping_gemini.ipynb\">\n",
        "      <img src=\"https://lh3.googleusercontent.com/UiNooY4LUgW_oTvpsNhPpQzsstV5W8F7rYgxgGBD85cWJoLmrOzhVs_ksK_vgx40SHs7jCqkTkCk=e14-rj-sc0xffffff-h130-w32\" alt=\"Vertex AI logo\"><br> Open in Workbench\n",
        "    </a>\n",
        "  </td>\n",
        "  <td style=\"text-align: center\">\n",
        "    <a href=\"https://github.com/GoogleCloudPlatform/generative-ai/blob/main/workshops/rag-ops/1_prototyping_gemini.ipynb\">\n",
        "      <img src=\"https://cloud.google.com/ml-engine/images/github-logo-32px.png\" alt=\"GitHub logo\"><br> View on GitHub\n",
        "    </a>\n",
        "  </td>\n",
        "</table>"
      ]
    },
    {
      "cell_type": "markdown",
      "metadata": {
        "id": "t1DnOs6rkbOy"
      },
      "source": [
        "## Overview\n",
        "\n",
        "Gemini 1.5 Pro is a new language model from the Gemini family. This model introduces a breakthrough long context window of up to 1 million tokens that can help seamlessly analyze large amounts of information and long-context understanding. It can process text, images, audio, video, and code all together for deeper insights. Learn more about [Gemini 1.5](https://blog.google/technology/ai/google-gemini-next-generation-model-february-2024/).\n",
        "\n",
        "With this tutorial, you learn how to use the Vertex AI Gemini API and the Vertex AI SDK to work with the Gemini 1.5 Pro model to:\n",
        "\n",
        "- analyze audio for insights.\n",
        "- understand videos (including their audio components).\n",
        "- extract information from PDF documents.\n",
        "- process images, video, audio, and text simultaneously."
      ]
    },
    {
      "cell_type": "markdown",
      "metadata": {
        "id": "61RBz8LLbxCR"
      },
      "source": [
        "## Getting Started"
      ]
    },
    {
      "cell_type": "markdown",
      "metadata": {
        "id": "No17Cw5hgx12"
      },
      "source": [
        "### Install Vertex AI SDK for Python\n"
      ]
    },
    {
      "cell_type": "code",
      "execution_count": null,
      "metadata": {
        "id": "tFy3H3aPgx12"
      },
      "outputs": [],
      "source": [
        "%pip install --upgrade --user --quiet google-cloud-aiplatform"
      ]
    },
    {
      "cell_type": "markdown",
      "metadata": {
        "id": "R5Xep4W9lq-Z"
      },
      "source": [
        "### Restart runtime\n",
        "\n",
        "To use the newly installed packages in this Jupyter runtime, you must restart the runtime. You can do this by running the cell below, which restarts the current kernel."
      ]
    },
    {
      "cell_type": "code",
      "execution_count": null,
      "metadata": {
        "id": "XRvKdaPDTznN"
      },
      "outputs": [],
      "source": [
        "import sys\n",
        "\n",
        "if \"google.colab\" in sys.modules:\n",
        "    import IPython\n",
        "\n",
        "    app = IPython.Application.instance()\n",
        "    app.kernel.do_shutdown(True)"
      ]
    },
    {
      "cell_type": "markdown",
      "metadata": {
        "id": "SbmM4z7FOBpM"
      },
      "source": [
        "<div class=\"alert alert-block alert-warning\">\n",
        "<b>⚠️ The kernel is going to restart. Please wait until it is finished before continuing to the next step. ⚠️</b>\n",
        "</div>\n"
      ]
    },
    {
      "cell_type": "markdown",
      "metadata": {
        "id": "dmWOrTJ3gx13"
      },
      "source": [
        "### Authenticate your notebook environment (Colab only)\n",
        "\n",
        "If you are running this notebook on Google Colab, run the cell below to authenticate your environment.\n"
      ]
    },
    {
      "cell_type": "code",
      "execution_count": null,
      "metadata": {
        "id": "NyKGtVQjgx13"
      },
      "outputs": [],
      "source": [
        "import sys\n",
        "\n",
        "if \"google.colab\" in sys.modules:\n",
        "    from google.colab import auth\n",
        "\n",
        "    auth.authenticate_user()"
      ]
    },
    {
      "cell_type": "markdown",
      "metadata": {
        "id": "DF4l8DTdWgPY"
      },
      "source": [
        "### Set Google Cloud project information and initialize Vertex AI SDK\n",
        "\n",
        "To get started using Vertex AI, you must have an existing Google Cloud project and [enable the Vertex AI API](https://console.cloud.google.com/flows/enableapi?apiid=aiplatform.googleapis.com).\n",
        "\n",
        "Learn more about [setting up a project and a development environment](https://cloud.google.com/vertex-ai/docs/start/cloud-environment)."
      ]
    },
    {
      "cell_type": "code",
      "execution_count": null,
      "metadata": {
        "id": "Nqwi-5ufWp_B",
        "outputId": "bb5fa46a-ab7e-4928-c442-2cc3811eb6f8",
        "colab": {
          "base_uri": "https://localhost:8080/"
        }
      },
      "outputs": [
        {
          "output_type": "stream",
          "name": "stdout",
          "text": [
            "Project ID: cmmc-mergersandacquisitions\n"
          ]
        }
      ],
      "source": [
        "import os\n",
        "import sys\n",
        "\n",
        "import vertexai\n",
        "\n",
        "PROJECT_ID = \"cmmc-mergersandacquisitions\"  # @param {type:\"string\", isTemplate: true}\n",
        "\n",
        "if PROJECT_ID == \"[your-project-id]\":\n",
        "    PROJECT_ID = str(os.environ.get(\"GOOGLE_CLOUD_PROJECT\"))\n",
        "\n",
        "if not PROJECT_ID or PROJECT_ID == \"[your-project-id]\" or PROJECT_ID == \"None\":\n",
        "    raise ValueError(\"Please set your PROJECT_ID\")\n",
        "\n",
        "print(f\"Project ID: {PROJECT_ID}\")\n",
        "\n",
        "LOCATION = \"us-central1\"\n",
        "\n",
        "vertexai.init(project=PROJECT_ID, location=LOCATION)"
      ]
    },
    {
      "cell_type": "markdown",
      "metadata": {
        "id": "jXHfaVS66_01"
      },
      "source": [
        "### Import libraries\n"
      ]
    },
    {
      "cell_type": "code",
      "execution_count": null,
      "metadata": {
        "id": "lslYAvw37JGQ"
      },
      "outputs": [],
      "source": [
        "from IPython.core.interactiveshell import InteractiveShell\n",
        "import IPython.display\n",
        "\n",
        "InteractiveShell.ast_node_interactivity = \"all\"\n",
        "\n",
        "from vertexai.generative_models import (\n",
        "    GenerationConfig,\n",
        "    GenerativeModel,\n",
        "    HarmBlockThreshold,\n",
        "    HarmCategory,\n",
        "    Part,\n",
        ")"
      ]
    },
    {
      "cell_type": "markdown",
      "metadata": {
        "id": "BY1nfXrqRxVX"
      },
      "source": [
        "### Load the Gemini 1.5 Flash model\n",
        "\n",
        "To learn more about all [Gemini API models on Vertex AI](https://cloud.google.com/vertex-ai/generative-ai/docs/learn/models#gemini-models).\n",
        "\n",
        "The Gemini model family has several model versions. You will start by using Gemini 1.5 Flash. Gemini 1.5 Flash is a more lightweight, fast, and cost-efficient model. This makes it a great option for prototyping.\n"
      ]
    },
    {
      "cell_type": "code",
      "execution_count": null,
      "metadata": {
        "id": "U7ExWmuLBdIA"
      },
      "outputs": [],
      "source": [
        "MODEL_ID = \"gemini-1.5-flash-002\"  # @param {type:\"string\"}\n",
        "\n",
        "model = GenerativeModel(MODEL_ID)"
      ]
    },
    {
      "cell_type": "markdown",
      "metadata": {
        "id": "l9OKM0-4SQf8"
      },
      "source": [
        "## Vertex AI SDK basic usage\n",
        "\n",
        "Prototyping starts with calling the API to see if we get a response. Lets learn some of the funamentals of the Vertex AI Gemini model.\n",
        "\n",
        "Below is a simple example that demonstrates how to prompt the Gemini 1.5 Pro model using the Vertex AI SDK. Learn more about the [Gemini API parameters](https://cloud.google.com/vertex-ai/generative-ai/docs/model-reference/gemini#gemini-pro)."
      ]
    },
    {
      "cell_type": "code",
      "execution_count": null,
      "metadata": {
        "id": "FhFxrtfdSwOP",
        "outputId": "e57aff45-6e7e-40d1-9ba6-1ffed8655996",
        "colab": {
          "base_uri": "https://localhost:8080/"
        }
      },
      "outputs": [
        {
          "output_type": "stream",
          "name": "stdout",
          "text": [
            "CPU times: user 2 µs, sys: 0 ns, total: 2 µs\n",
            "Wall time: 4.77 µs\n",
            "total_tokens: 32\n",
            "total_billable_characters: 128\n",
            "\n",
            "\n",
            "Answer:\n",
            "My review of a company's earnings report follows a structured approach, aiming to understand the company's performance, identify potential risks, and assess future prospects.  Here's a breakdown of the steps I'd take:\n",
            "\n",
            "**Phase 1:  Preliminary Overview & Context Setting**\n",
            "\n",
            "1. **Identify Key Metrics & Business Context:** Before diving into the numbers, I'd first familiarize myself with the company's industry, business model, and recent strategic moves.  I'd look at prior earnings reports and any press releases to understand the company's recent narrative and expectations. This sets the stage for interpreting the current report's findings.\n",
            "\n",
            "2. **Check for Consistency & Comparability:**  I'd ensure the reporting period is clearly defined and compare the current report's format and accounting methods with previous reports.  Any substantial changes in accounting practices need to be carefully scrutinized to understand their impact on reported figures.  I’d also check for any accounting irregularities or red flags highlighted by regulatory bodies.\n",
            "\n",
            "**Phase 2: Detailed Financial Statement Analysis**\n",
            "\n",
            "3. **Income Statement Deep Dive:**  I'd carefully analyze the income statement, focusing on:\n",
            "    * **Revenue Growth:** Was revenue growth organic, acquisition-driven, or a result of price increases? What are the underlying drivers of growth (market share gains, new products, etc.)?\n",
            "    * **Gross Profit Margin:**  What's driving changes in gross profit margin (e.g., cost of goods sold fluctuations, pricing strategies)?  Are these changes sustainable?\n",
            "    * **Operating Expenses:**  Are operating expenses increasing proportionally with revenue?  Are there any areas of inefficiency or potential cost-saving opportunities?\n",
            "    * **Net Income:** What factors contributed to the changes in net income compared to the previous period and year-ago figures?\n",
            "\n",
            "\n",
            "4. **Balance Sheet Scrutiny:**  I'd then move to the balance sheet to examine:\n",
            "    * **Liquidity:**  Is the company's short-term liquidity position strong (current ratio, quick ratio)?  Does it have sufficient cash to meet its obligations?\n",
            "    * **Solvency:**  How is the company's long-term debt position?  Are debt levels sustainable?  What are the key debt covenants?\n",
            "    * **Working Capital Management:**  How efficiently is the company managing its working capital (inventory turnover, days sales outstanding, etc.)?\n",
            "\n",
            "5. **Cash Flow Statement Review:** This statement is crucial for understanding the company's cash generation capabilities:\n",
            "    * **Operating Cash Flow:**  Is operating cash flow strong and growing?  Does it align with net income?  Significant discrepancies need closer examination.\n",
            "    * **Investing Cash Flow:**  What are the company's capital expenditures?  Are these investments aligned with its strategic goals?\n",
            "    * **Financing Cash Flow:**  How is the company financing its operations (debt, equity)?  Is the capital structure appropriate?\n",
            "\n",
            "**Phase 3:  Beyond the Numbers – Qualitative Assessment**\n",
            "\n",
            "6. **Management Commentary & Conference Call:**  I'd carefully review the management's discussion and analysis (MD&A) section, paying close attention to their commentary on key performance drivers, risks, and outlook.  Listening to the earnings conference call provides further insight into management's thinking and answers any questions that arose during the financial statement analysis.\n",
            "\n",
            "\n",
            "7. **Comparison with Peers:**  I'd benchmark the company's performance against its key competitors to understand its relative strengths and weaknesses.  This helps put the numbers in perspective and identify areas where the company might be outperforming or underperforming the market.\n",
            "\n",
            "\n",
            "8. **Forward-Looking Statements & Guidance:**  I'd analyze the company's guidance for the next quarter and year.  Is the guidance realistic given the current performance and industry trends?  What are the key assumptions underlying the guidance?\n",
            "\n",
            "\n",
            "**Phase 4:  Synthesis and Conclusion**\n",
            "\n",
            "9. **Synthesis and Valuation:** Based on the analysis, I would form an opinion on the company's performance, financial health, and future prospects.  This often involves using valuation models (e.g., discounted cash flow analysis) to assess the company's intrinsic value.\n",
            "\n",
            "\n",
            "10. **Report Writing and Recommendations:** Finally, I'd compile a comprehensive report summarizing my findings, including key takeaways, risks, and investment recommendations.\n",
            "\n",
            "\n",
            "This structured approach ensures a thorough and insightful review of a company's earnings report, enabling me to form well-informed opinions and make sound investment decisions.  The specific emphasis on certain aspects will vary depending on the company, industry and the overall investment objective.\n",
            "\n",
            "\n",
            "Usage metadata:\n",
            "{'prompt_token_count': 32, 'candidates_token_count': 959, 'total_token_count': 991}\n",
            "\n",
            "Finish reason:\n",
            "1\n",
            "\n",
            "Safety settings:\n",
            "[category: HARM_CATEGORY_HATE_SPEECH\n",
            "probability: NEGLIGIBLE\n",
            "probability_score: 0.011331766843795776\n",
            "severity: HARM_SEVERITY_NEGLIGIBLE\n",
            "severity_score: 0.08035743236541748\n",
            ", category: HARM_CATEGORY_DANGEROUS_CONTENT\n",
            "probability: NEGLIGIBLE\n",
            "probability_score: 0.039638884365558624\n",
            "severity: HARM_SEVERITY_NEGLIGIBLE\n",
            "severity_score: 0.17553819715976715\n",
            ", category: HARM_CATEGORY_HARASSMENT\n",
            "probability: NEGLIGIBLE\n",
            "probability_score: 0.007577236276119947\n",
            "severity: HARM_SEVERITY_NEGLIGIBLE\n",
            "severity_score: 0.03622008487582207\n",
            ", category: HARM_CATEGORY_SEXUALLY_EXPLICIT\n",
            "probability: NEGLIGIBLE\n",
            "probability_score: 0.02194826677441597\n",
            "severity: HARM_SEVERITY_NEGLIGIBLE\n",
            "severity_score: 0.028436094522476196\n",
            "]\n"
          ]
        }
      ],
      "source": [
        "%time\n",
        "\n",
        "# Load a example model with system instructions\n",
        "example_model = GenerativeModel(\n",
        "    MODEL_ID,\n",
        "    system_instruction=[\n",
        "        \"You are a financial analyst specialized in earnings reports\",\n",
        "    ],\n",
        ")\n",
        "\n",
        "# Set model parameters\n",
        "generation_config = GenerationConfig(\n",
        "    temperature=0.9,\n",
        "    top_p=1.0,\n",
        "    top_k=32,\n",
        "    candidate_count=1,\n",
        "    max_output_tokens=8192,\n",
        ")\n",
        "\n",
        "# Set safety settings\n",
        "safety_settings = {\n",
        "    HarmCategory.HARM_CATEGORY_HARASSMENT: HarmBlockThreshold.BLOCK_LOW_AND_ABOVE,\n",
        "    HarmCategory.HARM_CATEGORY_HATE_SPEECH: HarmBlockThreshold.BLOCK_LOW_AND_ABOVE,\n",
        "    HarmCategory.HARM_CATEGORY_SEXUALLY_EXPLICIT: HarmBlockThreshold.BLOCK_LOW_AND_ABOVE,\n",
        "    HarmCategory.HARM_CATEGORY_DANGEROUS_CONTENT: HarmBlockThreshold.BLOCK_LOW_AND_ABOVE,\n",
        "}\n",
        "\n",
        "prompt = \"\"\"\n",
        "  User input: Explain the steps you would take to review a companies earnings report?\n",
        "  Answer:\n",
        "\"\"\"\n",
        "\n",
        "# Set contents to send to the model\n",
        "contents = [prompt]\n",
        "\n",
        "# Counts tokens\n",
        "print(example_model.count_tokens(contents))\n",
        "\n",
        "# Prompt the model to generate content\n",
        "response = example_model.generate_content(\n",
        "    contents,\n",
        "    generation_config=generation_config,\n",
        "    safety_settings=safety_settings,\n",
        ")\n",
        "\n",
        "# Print the model response\n",
        "print(f\"\\nAnswer:\\n{response.text}\")\n",
        "print(f'\\nUsage metadata:\\n{response.to_dict().get(\"usage_metadata\")}')\n",
        "print(f\"\\nFinish reason:\\n{response.candidates[0].finish_reason}\")\n",
        "print(f\"\\nSafety settings:\\n{response.candidates[0].safety_ratings}\")"
      ]
    },
    {
      "cell_type": "markdown",
      "metadata": {
        "id": "1yhiPa46BGV0"
      },
      "source": [
        "### Enable streaming\n",
        "\n",
        "You can also enable streaming to receive the output while its being generated."
      ]
    },
    {
      "cell_type": "code",
      "execution_count": null,
      "metadata": {
        "id": "y6H9DYnwBFmN",
        "outputId": "f6dacd73-16a0-41ea-cab1-a7edf13eb215",
        "colab": {
          "base_uri": "https://localhost:8080/"
        }
      },
      "outputs": [
        {
          "output_type": "stream",
          "name": "stdout",
          "text": [
            "My\n",
            "________________________________________________________________________________\n",
            " approach to reviewing a company's earnings report involves a multi-step process designed\n",
            "________________________________________________________________________________\n",
            " to extract meaningful insights and assess the company's financial health and future prospects.\n",
            "________________________________________________________________________________\n",
            "  Here's the breakdown:\n",
            "\n",
            "**Phase 1: Pre-Reading & Contextualization**\n",
            "\n",
            "1. **Understand the Business:** Before diving into\n",
            "________________________________________________________________________________\n",
            " the numbers, I refresh my understanding of the company's business model, industry dynamics, and competitive landscape. This sets the stage for interpreting the financial results within\n",
            "________________________________________________________________________________\n",
            " their proper context.  I look for recent news, press releases, and SEC filings (like 10-Ks and 8-Ks) to identify any significant events that might impact the earnings.\n",
            "\n",
            "2. **Analyst Expectations:**\n",
            "________________________________________________________________________________\n",
            " I review analyst estimates (EPS, revenue) for the quarter and full year.  This provides a benchmark to compare the actual reported results against.  Discrepancies between actual and expected results require deeper investigation.\n",
            "\n",
            "3. **Previous Reports\n",
            "________________________________________________________________________________\n",
            ":** I compare the current report to previous quarters and years.  This helps identify trends, both positive and negative, and assess the consistency of the company's performance.\n",
            "\n",
            "**Phase 2: Detailed Analysis of the Earnings Report**\n",
            "\n",
            "4. **Income Statement Deep Dive:**  I meticulously analyze the income statement,\n",
            "________________________________________________________________________________\n",
            " looking beyond just net income. This includes:\n",
            "    * **Revenue Growth:** Examining the components of revenue growth (organic vs. inorganic, price increases vs. volume growth).  A decline in revenue warrants a detailed analysis of the reasons.\n",
            "    * **Gross Profit Margin:** Analyzing changes and comparing it to industry benchmarks\n",
            "________________________________________________________________________________\n",
            ". Changes indicate shifts in pricing, cost of goods sold, or both.\n",
            "    * **Operating Expenses:** Reviewing operating expenses (SG&A, R&D) to understand cost control and investment strategies. Unexpected increases need explanation.\n",
            "    * **Net Income:** Assessing the impact of various factors on net income (\n",
            "________________________________________________________________________________\n",
            "e.g., one-time gains/losses, changes in tax rates).\n",
            "\n",
            "5. **Balance Sheet Scrutiny:** I examine the balance sheet's key metrics:\n",
            "    * **Liquidity:** Analyzing current ratio and quick ratio to assess the company's short-term solvency.\n",
            "    * **Debt\n",
            "________________________________________________________________________________\n",
            " Levels:** Evaluating the company's debt-to-equity ratio, interest coverage ratio, and overall debt structure.\n",
            "    * **Working Capital:** Examining changes in accounts receivable, inventory, and accounts payable for potential issues.\n",
            "\n",
            "6. **Cash Flow Statement Investigation:** This is crucial for understanding the company's cash\n",
            "________________________________________________________________________________\n",
            " generation ability:\n",
            "    * **Operating Cash Flow:**  This is the most important metric.  A strong operating cash flow indicates the company's ability to generate cash from its core business operations.\n",
            "    * **Investing Cash Flow:** Analyzing capital expenditures (CapEx) to assess investment in growth and maintenance of assets\n",
            "________________________________________________________________________________\n",
            ".\n",
            "    * **Financing Cash Flow:** Evaluating the company's financing activities (debt issuance, equity offerings, dividend payments).\n",
            "\n",
            "7. **Key Metrics & Ratios:**  Beyond the statements, I calculate and analyze key financial ratios specific to the industry and the company's business model. This often involves comparing the\n",
            "________________________________________________________________________________\n",
            " company's performance to its peers.\n",
            "\n",
            "**Phase 3: Qualitative Assessment & Forward Outlook**\n",
            "\n",
            "8. **Management Discussion & Analysis (MD&A):** This section provides management's perspective on the results and their outlook for the future. I carefully analyze this section for insights into strategic initiatives, challenges,\n",
            "________________________________________________________________________________\n",
            " and risks.\n",
            "\n",
            "9. **Conference Call Transcript:**  A thorough review of the conference call transcript is essential.  Listening to management's responses to analyst questions provides valuable context and insights.\n",
            "\n",
            "10. **Overall Assessment:** Based on the quantitative and qualitative analysis, I form an overall assessment of the company'\n",
            "________________________________________________________________________________\n",
            "s performance and future prospects. This includes identifying key risks and opportunities.\n",
            "\n",
            "11. **Comparison with Peers:**  Comparing the company's performance to its competitors helps put the results in perspective and identify areas of strength and weakness.\n",
            "\n",
            "\n",
            "This detailed process helps me develop a comprehensive understanding of the company's financial health\n",
            "________________________________________________________________________________\n",
            ", identify any red flags, and assess its future potential.  It's important to remember that no single metric tells the whole story; a holistic view is essential.\n",
            "\n",
            "________________________________________________________________________________\n",
            "\n",
            "________________________________________________________________________________\n",
            "CPU times: user 77.9 ms, sys: 5.82 ms, total: 83.7 ms\n",
            "Wall time: 6.3 s\n"
          ]
        }
      ],
      "source": [
        "%%time\n",
        "response = example_model.generate_content(\n",
        "    contents,\n",
        "    stream=True,\n",
        "    generation_config=generation_config,\n",
        "    safety_settings=safety_settings,\n",
        ")\n",
        "\n",
        "for chunk in response:\n",
        "    print(chunk.text)\n",
        "    print(\"_\" * 80)"
      ]
    },
    {
      "cell_type": "markdown",
      "metadata": {
        "id": "6pAX8PQ0BhC2"
      },
      "source": [
        "### Token count\n",
        "**Important:** A token is equivalent to about 4 characters for Gemini models. 100 tokens are about 60-80 English words.\n",
        "[Cloud pricing](https://cloud.google.com/vertex-ai/generative-ai/pricing) is done on characters and not tokens.\n",
        "\n",
        "Using token count can help you with understanding the cost of running your prompt."
      ]
    },
    {
      "cell_type": "code",
      "execution_count": null,
      "metadata": {
        "id": "2EOeT5--CBTa",
        "outputId": "d758dbf6-1ecb-40d8-f697-e79b804ca688",
        "colab": {
          "base_uri": "https://localhost:8080/"
        }
      },
      "outputs": [
        {
          "output_type": "stream",
          "name": "stdout",
          "text": [
            "Prompt Token Count: 23\n",
            "Prompt Character Count: 77\n"
          ]
        }
      ],
      "source": [
        "# Get token count\n",
        "response = model.count_tokens(prompt)\n",
        "print(f\"Prompt Token Count: {response.total_tokens}\")\n",
        "print(f\"Prompt Character Count: {response.total_billable_characters}\")"
      ]
    },
    {
      "cell_type": "markdown",
      "metadata": {
        "id": "ElUrciMe9_Z9"
      },
      "source": [
        "### Prompt design fundamentals\n",
        "Here are some fundamentals for designing your prompts throughout this workshop:\n",
        "- Be specific in your instructions: Craft clear and concise instructions that leave minimal room for misinterpretation.\n",
        "- - Add a few examples to your prompt: Use realistic few-shot examples to illustrate what you want to achieve.\n",
        "Break it down step-by-step: Divide complex tasks into manageable sub-goals, guiding the model through the process.\n",
        "- Specify the output format: In your prompt, ask for the output to be in the format you want, like markdown, JSON, HTML and more.\n",
        "- Put your image first for single-image prompts: While Gemini can handle image and text inputs in any order, for prompts containing a single image, it might perform better if that image (or video) is placed before the text prompt. However, for prompts that require images to be highly interleaved with texts to make sense, use whatever order is most natural."
      ]
    },
    {
      "cell_type": "markdown",
      "metadata": {
        "id": "r8jpFgHqCvQE"
      },
      "source": [
        "## Working with multimodal data\n",
        "\n",
        "Lets now dive into the world of multimodal where we will use different types of data, like a pdf and audio, and ask Gemini to reasons across these modalities."
      ]
    },
    {
      "cell_type": "markdown",
      "metadata": {
        "id": "FL-wDJCrRHZQ"
      },
      "source": [
        "### Text and PDF\n",
        "\n",
        "Next, you can ask a question about the PDF document. You will use the PDF format of an earnings report. To answer this question the model has to process the PDF and find the information in the pdf."
      ]
    },
    {
      "cell_type": "code",
      "execution_count": null,
      "metadata": {
        "id": "aFnAXw31yoj3"
      },
      "outputs": [],
      "source": [
        "ROLE = \"\"\"\n",
        "You are a financial analyst. You specialize in Give me a summary of the earnings report\n",
        "Only base your answer on the information provided.\n",
        "\"\"\""
      ]
    },
    {
      "cell_type": "code",
      "execution_count": null,
      "metadata": {
        "id": "jCP2T-fe2jzb"
      },
      "outputs": [],
      "source": [
        "question_1 = \"Question: How many shares of each class of Alphabet stock were outstanding as of July 22, 2022?\""
      ]
    },
    {
      "cell_type": "markdown",
      "metadata": {
        "id": "4JS7PgyI3HAH"
      },
      "source": [
        "Next you can combine the prompts with the PDF and send it to the Gemini API."
      ]
    },
    {
      "cell_type": "code",
      "execution_count": null,
      "metadata": {
        "id": "EKYRfscF5_q1",
        "outputId": "78f8c5ee-c8d3-4e25-adf5-e88d2dab724d",
        "colab": {
          "base_uri": "https://localhost:8080/"
        }
      },
      "outputs": [
        {
          "output_type": "stream",
          "name": "stdout",
          "text": [
            "Based on the provided document, as of July 18, 2023, there were 5,933 million shares of Alphabet's Class A stock outstanding, 875 million shares of Alphabet's Class B stock outstanding, and 5,801 million shares of Alphabet's Class C stock outstanding.  The document does not provide the number of outstanding shares for July 22, 2022.\n",
            "\n"
          ]
        }
      ],
      "source": [
        "pdf_file_uri = \"gs://mlops-for-genai/multimodal-finanace-qa/data/unstructured/prototype/goog-10-q-q2-2023-4-1-15.pdf\"\n",
        "pdf_file = Part.from_uri(pdf_file_uri, mime_type=\"application/pdf\")\n",
        "contents = [pdf_file, ROLE, question_1]\n",
        "\n",
        "response = model.generate_content(contents)\n",
        "print(response.text)"
      ]
    },
    {
      "cell_type": "code",
      "execution_count": null,
      "metadata": {
        "id": "Rn6q4c0V5_vb",
        "outputId": "05f28551-46fd-4a76-8581-ecb6270d16e8",
        "colab": {
          "base_uri": "https://localhost:8080/"
        }
      },
      "outputs": [
        {
          "output_type": "stream",
          "name": "stdout",
          "text": [
            "Here's a summary of Alphabet's fourth-quarter 2023 earnings conference call, along with three key takeaways:\n",
            "\n",
            "**Summary:**\n",
            "\n",
            "Alphabet reported full-year 2023 revenues of $370 billion, a 9% increase compared to 2022. The fourth quarter showed consolidated revenues of $86.3 billion, up 13% year-on-year in both reported and constant currency. Search remained the largest contributor to revenue growth.  Total cost of revenues was $37.6 billion, and operating expenses were $25 billion, an 11% year-over-year increase mainly due to R&D expenses (including real estate charges) and compensation.  Operating income was $23.7 billion, and net income was $20.7 billion, with an EPS of $1.64. Free cash flow was $7.9 billion for the quarter (affected by a large tax payment), and $69 billion for the full year.  $62 billion in Class A and C shares were repurchased in 2023, leaving $111 billion in cash and marketable securities.\n",
            "\n",
            "Google Services revenues were $76.3 billion (up 12%), with Search and other advertising revenues up 13%, driven by retail growth; YouTube ads revenue was up 16%; and Network revenues declined 2%.  Subscriptions, platforms and devices revenues (previously \"Google Other\") were $10.8 billion, up 23%, reflecting strong YouTube subscription growth.\n",
            "\n",
            "Google Cloud revenues reached $9.2 billion (up 26%), driven by AI solutions. Google Workspace saw strong revenue growth, mainly driven by increases in average revenue per seat.  Google Cloud delivered operating income of $864 million and a 9% operating margin.\n",
            "\n",
            "Other Bets revenues were $1.5 billion, with an operating loss of $4.1 billion. The Q4 results benefitted from a milestone payment in one of the Other Bets segments.  Alphabet plans to spin out more projects from its X division.  \n",
            "\n",
            "\n",
            "**Top 3 Takeaways:**\n",
            "\n",
            "1. **Strong AI Momentum:**  Alphabet is heavily investing in AI,  particularly generative AI, across its various products (Search, Ads, YouTube, Cloud, and Workspace).  Early results show positive user feedback and improved advertiser ROI, although there are some challenges and gating factors to consider regarding broader rollout.  The integration of Gemini, their new industry-leading AI model, will fuel this.\n",
            "\n",
            "2. **Sustained Growth Across Segments:** While retail was particularly strong in Q4 (with promotional activity at an all time high), Alphabet demonstrated healthy growth across Search, YouTube (both advertising and subscriptions), and Google Cloud.  The company emphasizes its commitment to supporting long-term growth in all segments.\n",
            "\n",
            "3. **Cost Optimization and Investment:** Alphabet is continuing its efforts to re-engineer its cost base through product prioritization, organizational efficiency (including headcount reductions), infrastructure improvements, and supplier efficiency efforts.  Despite this, the company is significantly increasing investment in CapEx in 2024, reflecting its focus on AI and long-term growth opportunities.\n",
            "\n"
          ]
        }
      ],
      "source": [
        "question_2 = (\n",
        "    \"Summarize the earnings call provided and provide us with your top 3 take aways\"\n",
        ")\n",
        "\n",
        "audio_file_uri = \"gs://mlops-for-genai/multimodal-finanace-qa/data/unstructured/prototype/alphabet_2023_q4_earnings_call.mp3\"\n",
        "audio_file = Part.from_uri(audio_file_uri, mime_type=\"audio/mpeg\")\n",
        "\n",
        "contents = [audio_file, ROLE, question_2]\n",
        "\n",
        "response = model.generate_content(contents)\n",
        "print(response.text)"
      ]
    },
    {
      "cell_type": "markdown",
      "metadata": {
        "id": "xqO6ylxxDDMV"
      },
      "source": [
        "### Troubleshooting your multimodal prompt\n",
        "While prototyping you also might have to troubleshoot your multimodal prompts. Here are some tips:\n",
        "\n",
        "- If the model is not drawing information from the relevant part of the image: Drop hints with which aspects of the image you want the prompt to draw information from.\n",
        "- If the model output is too generic (not tailored enough to the image/video input): At the start of the prompt, try asking the model to describe the image(s) or video before providing the task instruction, or try asking the model to refer to what's in the image.\n",
        "- To troubleshoot which part failed: Ask the model to describe the image, or ask the model to explain its reasoning, to gauge the model's initial understanding.\n",
        "- If your prompt results in hallucinated content: Try dialing down the temperature setting or asking the model for shorter descriptions so that it's less likely to extrapolate additional details.\n",
        "- Tuning the sampling parameters: Experiment with different temperature settings and top-k selections to adjust the model's creativity."
      ]
    },
    {
      "cell_type": "markdown",
      "metadata": {
        "id": "2amIRb-OSNM5"
      },
      "source": [
        "## Advanced reasoning across text, audio, video and PDF.\n",
        "\n",
        "Let's do something more complex. You will now let the model reason across different modalities to find the answer to the question: audio, PDF, and video.\n",
        "\n",
        "Lets also switch models and use `gemini-1.5-pro-001`"
      ]
    },
    {
      "cell_type": "code",
      "execution_count": null,
      "metadata": {
        "id": "n002WnWNbfYa"
      },
      "outputs": [],
      "source": [
        "MODEL_ID = \"gemini-1.5-pro-001\""
      ]
    },
    {
      "cell_type": "code",
      "execution_count": null,
      "metadata": {
        "id": "8P_L2E4ROYTg",
        "outputId": "1c69942a-5aa4-480e-ea10-9f62a78a76e4",
        "colab": {
          "base_uri": "https://localhost:8080/"
        }
      },
      "outputs": [
        {
          "output_type": "stream",
          "name": "stdout",
          "text": [
            "Here's a summary of how Google is using AI to optimize its advertising experience and the automotive partnership announced in February 2023, based on the provided transcript:\n",
            "\n",
            "**AI in Google Advertising:**\n",
            "\n",
            "* **Targeting:** Google uses AI to improve the relevance of search keywords to shown ads, particularly when multiple keywords overlap.\n",
            "* **Bidding:** Their smart bidding models use AI to adjust bids more accurately based on ad format differences.  This means bids are optimized depending on how users will interact with the ad.\n",
            "* **Creatives:** The automatically created assets beta (ACA) generates text assets for responsive search ads, reducing manual work to keep them fresh and relevant to user queries and advertiser businesses.\n",
            "* **Performance Max:** Google is actively encouraging advertisers to use Performance Max, which leverages the full power of AI to find untapped conversion opportunities. Advertisers using P-Max achieve, on average, over 18% more conversions at a similar CPA.\n",
            "\n",
            "\n",
            "**Strategic Partnership (February 2023):**\n",
            "\n",
            "Google announced a partnership with Mercedes-Benz.  This collaboration involves integrating Google Maps and YouTube platforms into future Mercedes-Benz vehicles equipped with the next-generation MB.OS operating system.  In addition to a customized navigation interface, the partnership provides AI and data cloud capabilities to advance Mercedes-Benz's autonomous driving efforts and enhance the customer experience.\n",
            "\n"
          ]
        }
      ],
      "source": [
        "ROLE = \"You are a financial analyst at a hedge fund\"\n",
        "question_2 = \"How is Google using AI to optimize advertisement experience and what strategic partnership did Google announce in February 2023 in the automotive industry??\"\n",
        "\n",
        "audio_uri_1 = \"gs://mlops-for-genai/multimodal-finanace-qa/data/unstructured/prototype/Alphabet_2023_Q1_Earnings_Call.mp3\"\n",
        "audio_uri_2 = \"gs://mlops-for-genai/multimodal-finanace-qa/data/unstructured/prototype/episode1.mp3\"\n",
        "\n",
        "pdf_uri_2 = \"gs://mlops-for-genai/multimodal-finanace-qa/data/unstructured/prototype/20230426-alphabet-10q.pdf\"\n",
        "video_uri_1 = \"gs://mlops-for-genai/multimodal-finanace-qa/data/unstructured/prototype/changing-the-way-scientists-research-Gemini.mp4\"\n",
        "\n",
        "pdf_file = Part.from_uri(pdf_uri_2, mime_type=\"application/pdf\")\n",
        "video_file = Part.from_uri(video_uri_1, mime_type=\"video/mp4\")\n",
        "audio_file_1 = Part.from_uri(audio_uri_1, mime_type=\"audio/mpeg\")\n",
        "audio_file_2 = Part.from_uri(audio_uri_2, mime_type=\"audio/mpeg\")\n",
        "\n",
        "contents = [audio_file_1, audio_file_2, video_file, pdf_file, ROLE, question_2]\n",
        "\n",
        "response = model.generate_content(contents)\n",
        "print(response.text)"
      ]
    },
    {
      "cell_type": "markdown",
      "metadata": {
        "id": "P_6z78-jd21R"
      },
      "source": [
        "## Experimentation\n",
        "\n",
        "Now its time for you to improve the prompts. You can update the prompts below and re-run the code to see the response from Gemini."
      ]
    },
    {
      "cell_type": "code",
      "execution_count": null,
      "metadata": {
        "id": "J_7nr1I3eSfK"
      },
      "outputs": [],
      "source": [
        "ROLE = \"<update-this>\"\n",
        "question_2 = \"<update-this>\""
      ]
    },
    {
      "cell_type": "code",
      "execution_count": null,
      "metadata": {
        "id": "4ENMZk0rd4q9",
        "outputId": "c6c42fc0-dbff-40d1-f073-81a2e384ad3b",
        "colab": {
          "base_uri": "https://localhost:8080/"
        }
      },
      "outputs": [
        {
          "output_type": "stream",
          "name": "stdout",
          "text": [
            "Okay, here's a summary of the provided audio transcriptions.  The first is an earnings conference call for Alphabet, while the second is a podcast interview with a professor from Oxford University.\n",
            "\n",
            "**Alphabet Earnings Call Summary:**\n",
            "\n",
            "The call covers Alphabet's first-quarter 2023 earnings.  Key discussion points include:\n",
            "\n",
            "* **Strong Search Performance and Momentum in Cloud:** Search performed well, with the Cloud division achieving profitability.\n",
            "* **Advancements in AI:** Alphabet introduced Bard, an experimental conversational AI service, and the Palm API.  AI is being incorporated into search and other products.\n",
            "* **Sharpened Company Focus:**  Alphabet is focused on cost efficiency and improving the utilization of machine learning models and data centers.\n",
            "* **Google Cloud Momentum:** Google Cloud continues strong growth in topline revenues and annual operating margins, driven by relationships with large enterprises, a strong partner ecosystem, and product leadership.  Generative AI advancements are being integrated with Google Cloud platform.\n",
            "* **YouTube Performance:** YouTube Shorts show strong momentum. YouTube Premium gained new features, and YouTube TV and YouTube Primetime Channels are seeing great momentum.  The NFL Sunday Ticket will drive subscriptions.\n",
            "\n",
            "The financial results show consolidated revenue up 3% (6% in constant currency), with Google Services revenue up 1%.  Expenses increased due to workforce reductions and adjustments to server depreciation estimates. Operating income was down 13%, and the operating margin was 25%. Free cash flow was $17.2 billion.  Google Cloud revenue grew 28%.\n",
            "\n",
            "The company is committed to investing responsibly and with discipline to improve profitability in the long-term.\n",
            "\n",
            "**Podcast Interview Summary:**\n",
            "\n",
            "The podcast discusses AI and governance with Professor Ngaire Woods of the Blavatnik School of Government at Oxford University. Key discussion points:\n",
            "\n",
            "* **Government's Use of AI:** Governments need to be able to utilize data and AI effectively, but often struggle with fragmented data infrastructure and siloed departments.  Professor Woods advocates for a public digital infrastructure to enable better services.\n",
            "* **AI in Education:**  The advent of AI tools like Bard has raised concerns about assessment methods in education, but Professor Woods argues that AI should be viewed as a new tool requiring students to utilize critical thinking.\n",
            "* **Global Attitudes towards AI:** While there are concerns about AI in Europe and the US, many countries in the Global South exhibit more optimism about its potential benefits.  \n",
            "* **AI and Governance Challenges:**  A key challenge is balancing the potential for AI-enabled government control with the need for responsible use.  The potential for misuse in areas such as disinformation, deep fakes and political attacks are significant concerns.  This is especially relevant with the upcoming increase in elections worldwide and the disproportionate abuse suffered by women candidates and political leaders.\n",
            "* **The Future of Work:**  The potential impact of AI on labor markets and jobs is a significant area of concern. The need to address both positive and negative impacts requires a whole of society approach.  The conversation should include not just those in the tech sector, but also representatives from those sectors where the impacts will be most felt.  There is a growing wealth gap, and this is a major societal challenge.\n",
            "\n",
            "\n",
            "The conversation emphasizes the importance of collaboration between governments, tech companies, and individuals to maximize AI's benefits while mitigating its risks and fostering a more equitable distribution of its positive impacts.\n",
            "\n"
          ]
        }
      ],
      "source": [
        "audio_uri_1 = \"gs://mlops-for-genai/multimodal-finanace-qa/data/unstructured/prototype/Alphabet_2023_Q1_Earnings_Call.mp3\"\n",
        "audio_uri_2 = \"gs://mlops-for-genai/multimodal-finanace-qa/data/unstructured/prototype/episode1.mp3\"\n",
        "\n",
        "pdf_uri_2 = \"gs://mlops-for-genai/multimodal-finanace-qa/data/unstructured/prototype/20230426-alphabet-10q.pdf\"\n",
        "video_uri_1 = \"gs://mlops-for-genai/multimodal-finanace-qa/data/unstructured/prototype/changing-the-way-scientists-research-Gemini.mp4\"\n",
        "\n",
        "pdf_file = Part.from_uri(pdf_uri_2, mime_type=\"application/pdf\")\n",
        "video_file = Part.from_uri(video_uri_1, mime_type=\"video/mp4\")\n",
        "audio_file_1 = Part.from_uri(audio_uri_1, mime_type=\"audio/mpeg\")\n",
        "audio_file_2 = Part.from_uri(audio_uri_2, mime_type=\"audio/mpeg\")\n",
        "\n",
        "# contents = [audio_file_1, audio_file_2, video_file, pdf_file, ROLE, question_2]\n",
        "contents = [audio_file_1, audio_file_2, ROLE, question_2]\n",
        "\n",
        "response = model.generate_content(contents)\n",
        "print(response.text)"
      ]
    }
  ],
  "metadata": {
    "colab": {
      "toc_visible": true,
      "provenance": [],
      "machine_shape": "hm",
      "gpuType": "L4",
      "include_colab_link": true
    },
    "kernelspec": {
      "display_name": "Python 3",
      "name": "python3"
    },
    "accelerator": "GPU"
  },
  "nbformat": 4,
  "nbformat_minor": 0
}