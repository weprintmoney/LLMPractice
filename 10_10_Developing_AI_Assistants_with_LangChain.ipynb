{
  "nbformat": 4,
  "nbformat_minor": 0,
  "metadata": {
    "colab": {
      "provenance": [],
      "gpuType": "T4",
      "include_colab_link": true
    },
    "kernelspec": {
      "name": "python3",
      "display_name": "Python 3"
    },
    "language_info": {
      "name": "python"
    },
    "accelerator": "GPU"
  },
  "cells": [
    {
      "cell_type": "markdown",
      "metadata": {
        "id": "view-in-github",
        "colab_type": "text"
      },
      "source": [
        "<a href=\"https://colab.research.google.com/github/weprintmoney/LLMPractice/blob/main/10_10_Developing_AI_Assistants_with_LangChain.ipynb\" target=\"_parent\"><img src=\"https://colab.research.google.com/assets/colab-badge.svg\" alt=\"Open In Colab\"/></a>"
      ]
    },
    {
      "cell_type": "markdown",
      "source": [
        "<center><p float=\"center\">\n",
        "  <img src=\"https://upload.wikimedia.org/wikipedia/commons/e/e9/4_RGB_McCombs_School_Brand_Branded.png\" width=\"300\" height=\"100\"/>\n",
        "  <img src=\"https://mma.prnewswire.com/media/1458111/Great_Learning_Logo.jpg?p=facebook\" width=\"200\" height=\"100\"/>\n",
        "</p></center>\n",
        "\n",
        "<h1><center><font size=8>Creating a LangChain Data Science Assistant</center></font></h1>\n",
        "<h1><center>with the OpenAI API</center></h1>\n",
        "<h3><center>Charlcye Mitchell, May 2024</center></h3>"
      ],
      "metadata": {
        "id": "Zc5QB5OdbQkd"
      }
    },
    {
      "cell_type": "markdown",
      "source": [
        "## **Learning Notebook Objective**\n",
        "\n",
        "In this learning notebook, we shall go over the code to understand how to enable the creation of a LangChain agent that can function as a \"Data Science Assistant\", to help us perform the nature of tasks we have often done in Data Analysis and Data Science. We shall demonstrate the usage of an OpenAI model for the purposes of this notebook (although this can also be accomplished with an open-source model such as Llama 2), and demonstrate how the LLM is able to understand our Natural Language commands, convert those into Pandas code, and execute our commands to get the desired outputs.\n",
        "\n"
      ],
      "metadata": {
        "id": "c4R4Z-0gU5Z9"
      }
    },
    {
      "cell_type": "markdown",
      "source": [
        "## **Installing the required libraries**"
      ],
      "metadata": {
        "id": "qY3JgWYXdFG4"
      }
    },
    {
      "cell_type": "code",
      "execution_count": null,
      "metadata": {
        "id": "FkSRoE2G9rHh",
        "colab": {
          "base_uri": "https://localhost:8080/"
        },
        "outputId": "1519057b-b0be-4881-8109-10f0e7a2603f"
      },
      "outputs": [
        {
          "output_type": "stream",
          "name": "stdout",
          "text": [
            "Collecting tiktoken\n",
            "  Downloading tiktoken-0.5.2-cp310-cp310-manylinux_2_17_x86_64.manylinux2014_x86_64.whl (2.0 MB)\n",
            "\u001b[?25l     \u001b[90m━━━━━━━━━━━━━━━━━━━━━━━━━━━━━━━━━━━━━━━━\u001b[0m \u001b[32m0.0/2.0 MB\u001b[0m \u001b[31m?\u001b[0m eta \u001b[36m-:--:--\u001b[0m\r\u001b[2K     \u001b[91m━━━━━━━━\u001b[0m\u001b[90m╺\u001b[0m\u001b[90m━━━━━━━━━━━━━━━━━━━━━━━━━━━━━━━\u001b[0m \u001b[32m0.4/2.0 MB\u001b[0m \u001b[31m11.8 MB/s\u001b[0m eta \u001b[36m0:00:01\u001b[0m\r\u001b[2K     \u001b[90m━━━━━━━━━━━━━━━━━━━━━━━━━━━━━━━━━━━━━━━━\u001b[0m \u001b[32m2.0/2.0 MB\u001b[0m \u001b[31m29.6 MB/s\u001b[0m eta \u001b[36m0:00:00\u001b[0m\n",
            "\u001b[?25hRequirement already satisfied: regex>=2022.1.18 in /usr/local/lib/python3.10/dist-packages (from tiktoken) (2023.12.25)\n",
            "Requirement already satisfied: requests>=2.26.0 in /usr/local/lib/python3.10/dist-packages (from tiktoken) (2.31.0)\n",
            "Requirement already satisfied: charset-normalizer<4,>=2 in /usr/local/lib/python3.10/dist-packages (from requests>=2.26.0->tiktoken) (3.3.2)\n",
            "Requirement already satisfied: idna<4,>=2.5 in /usr/local/lib/python3.10/dist-packages (from requests>=2.26.0->tiktoken) (3.6)\n",
            "Requirement already satisfied: urllib3<3,>=1.21.1 in /usr/local/lib/python3.10/dist-packages (from requests>=2.26.0->tiktoken) (2.0.7)\n",
            "Requirement already satisfied: certifi>=2017.4.17 in /usr/local/lib/python3.10/dist-packages (from requests>=2.26.0->tiktoken) (2023.11.17)\n",
            "Installing collected packages: tiktoken\n",
            "\u001b[31mERROR: pip's dependency resolver does not currently take into account all the packages that are installed. This behaviour is the source of the following dependency conflicts.\n",
            "llmx 0.0.15a0 requires cohere, which is not installed.\n",
            "llmx 0.0.15a0 requires openai, which is not installed.\u001b[0m\u001b[31m\n",
            "\u001b[0mSuccessfully installed tiktoken-0.5.2\n",
            "Collecting openai==1.7.1\n",
            "  Downloading openai-1.7.1-py3-none-any.whl (224 kB)\n",
            "\u001b[2K     \u001b[90m━━━━━━━━━━━━━━━━━━━━━━━━━━━━━━━━━━━━━━━━\u001b[0m \u001b[32m224.9/224.9 kB\u001b[0m \u001b[31m6.0 MB/s\u001b[0m eta \u001b[36m0:00:00\u001b[0m\n",
            "\u001b[?25hRequirement already satisfied: anyio<5,>=3.5.0 in /usr/local/lib/python3.10/dist-packages (from openai==1.7.1) (3.7.1)\n",
            "Requirement already satisfied: distro<2,>=1.7.0 in /usr/lib/python3/dist-packages (from openai==1.7.1) (1.7.0)\n",
            "Collecting httpx<1,>=0.23.0 (from openai==1.7.1)\n",
            "  Downloading httpx-0.26.0-py3-none-any.whl (75 kB)\n",
            "\u001b[2K     \u001b[90m━━━━━━━━━━━━━━━━━━━━━━━━━━━━━━━━━━━━━━━━\u001b[0m \u001b[32m75.9/75.9 kB\u001b[0m \u001b[31m11.3 MB/s\u001b[0m eta \u001b[36m0:00:00\u001b[0m\n",
            "\u001b[?25hRequirement already satisfied: pydantic<3,>=1.9.0 in /usr/local/lib/python3.10/dist-packages (from openai==1.7.1) (1.10.14)\n",
            "Requirement already satisfied: sniffio in /usr/local/lib/python3.10/dist-packages (from openai==1.7.1) (1.3.0)\n",
            "Requirement already satisfied: tqdm>4 in /usr/local/lib/python3.10/dist-packages (from openai==1.7.1) (4.66.1)\n",
            "Collecting typing-extensions<5,>=4.7 (from openai==1.7.1)\n",
            "  Downloading typing_extensions-4.9.0-py3-none-any.whl (32 kB)\n",
            "Requirement already satisfied: idna>=2.8 in /usr/local/lib/python3.10/dist-packages (from anyio<5,>=3.5.0->openai==1.7.1) (3.6)\n",
            "Requirement already satisfied: exceptiongroup in /usr/local/lib/python3.10/dist-packages (from anyio<5,>=3.5.0->openai==1.7.1) (1.2.0)\n",
            "Requirement already satisfied: certifi in /usr/local/lib/python3.10/dist-packages (from httpx<1,>=0.23.0->openai==1.7.1) (2023.11.17)\n",
            "Collecting httpcore==1.* (from httpx<1,>=0.23.0->openai==1.7.1)\n",
            "  Downloading httpcore-1.0.2-py3-none-any.whl (76 kB)\n",
            "\u001b[2K     \u001b[90m━━━━━━━━━━━━━━━━━━━━━━━━━━━━━━━━━━━━━━━━\u001b[0m \u001b[32m76.9/76.9 kB\u001b[0m \u001b[31m11.1 MB/s\u001b[0m eta \u001b[36m0:00:00\u001b[0m\n",
            "\u001b[?25hCollecting h11<0.15,>=0.13 (from httpcore==1.*->httpx<1,>=0.23.0->openai==1.7.1)\n",
            "  Downloading h11-0.14.0-py3-none-any.whl (58 kB)\n",
            "\u001b[2K     \u001b[90m━━━━━━━━━━━━━━━━━━━━━━━━━━━━━━━━━━━━━━━━\u001b[0m \u001b[32m58.3/58.3 kB\u001b[0m \u001b[31m8.5 MB/s\u001b[0m eta \u001b[36m0:00:00\u001b[0m\n",
            "\u001b[?25hInstalling collected packages: typing-extensions, h11, httpcore, httpx, openai\n",
            "  Attempting uninstall: typing-extensions\n",
            "    Found existing installation: typing_extensions 4.5.0\n",
            "    Uninstalling typing_extensions-4.5.0:\n",
            "      Successfully uninstalled typing_extensions-4.5.0\n",
            "\u001b[31mERROR: pip's dependency resolver does not currently take into account all the packages that are installed. This behaviour is the source of the following dependency conflicts.\n",
            "llmx 0.0.15a0 requires cohere, which is not installed.\n",
            "tensorflow-probability 0.22.0 requires typing-extensions<4.6.0, but you have typing-extensions 4.9.0 which is incompatible.\u001b[0m\u001b[31m\n",
            "\u001b[0mSuccessfully installed h11-0.14.0 httpcore-1.0.2 httpx-0.26.0 openai-1.7.1 typing-extensions-4.9.0\n",
            "Collecting pypdf\n",
            "  Downloading pypdf-4.0.1-py3-none-any.whl (283 kB)\n",
            "\u001b[2K     \u001b[90m━━━━━━━━━━━━━━━━━━━━━━━━━━━━━━━━━━━━━━━━\u001b[0m \u001b[32m284.0/284.0 kB\u001b[0m \u001b[31m4.2 MB/s\u001b[0m eta \u001b[36m0:00:00\u001b[0m\n",
            "\u001b[?25hInstalling collected packages: pypdf\n",
            "Successfully installed pypdf-4.0.1\n",
            "Collecting faiss-gpu\n",
            "  Downloading faiss_gpu-1.7.2-cp310-cp310-manylinux_2_17_x86_64.manylinux2014_x86_64.whl (85.5 MB)\n",
            "\u001b[2K     \u001b[90m━━━━━━━━━━━━━━━━━━━━━━━━━━━━━━━━━━━━━━━━\u001b[0m \u001b[32m85.5/85.5 MB\u001b[0m \u001b[31m3.9 MB/s\u001b[0m eta \u001b[36m0:00:00\u001b[0m\n",
            "\u001b[?25hInstalling collected packages: faiss-gpu\n",
            "Successfully installed faiss-gpu-1.7.2\n",
            "Collecting google-search-results\n",
            "  Downloading google_search_results-2.4.2.tar.gz (18 kB)\n",
            "  Preparing metadata (setup.py) ... \u001b[?25l\u001b[?25hdone\n",
            "Requirement already satisfied: requests in /usr/local/lib/python3.10/dist-packages (from google-search-results) (2.31.0)\n",
            "Requirement already satisfied: charset-normalizer<4,>=2 in /usr/local/lib/python3.10/dist-packages (from requests->google-search-results) (3.3.2)\n",
            "Requirement already satisfied: idna<4,>=2.5 in /usr/local/lib/python3.10/dist-packages (from requests->google-search-results) (3.6)\n",
            "Requirement already satisfied: urllib3<3,>=1.21.1 in /usr/local/lib/python3.10/dist-packages (from requests->google-search-results) (2.0.7)\n",
            "Requirement already satisfied: certifi>=2017.4.17 in /usr/local/lib/python3.10/dist-packages (from requests->google-search-results) (2023.11.17)\n",
            "Building wheels for collected packages: google-search-results\n",
            "  Building wheel for google-search-results (setup.py) ... \u001b[?25l\u001b[?25hdone\n",
            "  Created wheel for google-search-results: filename=google_search_results-2.4.2-py3-none-any.whl size=32003 sha256=b597d2f59e9a33b12c9dcf3cbcb65b7e172b36ca48b3d45c9c1e1d417937ce33\n",
            "  Stored in directory: /root/.cache/pip/wheels/d3/b2/c3/03302d12bb44a2cdff3c9371f31b72c0c4e84b8d2285eeac53\n",
            "Successfully built google-search-results\n",
            "Installing collected packages: google-search-results\n",
            "Successfully installed google-search-results-2.4.2\n",
            "Collecting cohere\n",
            "  Downloading cohere-4.45-py3-none-any.whl (52 kB)\n",
            "\u001b[2K     \u001b[90m━━━━━━━━━━━━━━━━━━━━━━━━━━━━━━━━━━━━━━━━\u001b[0m \u001b[32m52.1/52.1 kB\u001b[0m \u001b[31m2.6 MB/s\u001b[0m eta \u001b[36m0:00:00\u001b[0m\n",
            "\u001b[?25hRequirement already satisfied: aiohttp<4.0,>=3.0 in /usr/local/lib/python3.10/dist-packages (from cohere) (3.9.3)\n",
            "Collecting backoff<3.0,>=2.0 (from cohere)\n",
            "  Downloading backoff-2.2.1-py3-none-any.whl (15 kB)\n",
            "Collecting fastavro<2.0,>=1.8 (from cohere)\n",
            "  Downloading fastavro-1.9.3-cp310-cp310-manylinux_2_17_x86_64.manylinux2014_x86_64.whl (3.1 MB)\n",
            "\u001b[2K     \u001b[90m━━━━━━━━━━━━━━━━━━━━━━━━━━━━━━━━━━━━━━━━\u001b[0m \u001b[32m3.1/3.1 MB\u001b[0m \u001b[31m64.9 MB/s\u001b[0m eta \u001b[36m0:00:00\u001b[0m\n",
            "\u001b[?25hCollecting importlib_metadata<7.0,>=6.0 (from cohere)\n",
            "  Downloading importlib_metadata-6.11.0-py3-none-any.whl (23 kB)\n",
            "Requirement already satisfied: requests<3.0.0,>=2.25.0 in /usr/local/lib/python3.10/dist-packages (from cohere) (2.31.0)\n",
            "Requirement already satisfied: urllib3<3,>=1.26 in /usr/local/lib/python3.10/dist-packages (from cohere) (2.0.7)\n",
            "Requirement already satisfied: aiosignal>=1.1.2 in /usr/local/lib/python3.10/dist-packages (from aiohttp<4.0,>=3.0->cohere) (1.3.1)\n",
            "Requirement already satisfied: attrs>=17.3.0 in /usr/local/lib/python3.10/dist-packages (from aiohttp<4.0,>=3.0->cohere) (23.2.0)\n",
            "Requirement already satisfied: frozenlist>=1.1.1 in /usr/local/lib/python3.10/dist-packages (from aiohttp<4.0,>=3.0->cohere) (1.4.1)\n",
            "Requirement already satisfied: multidict<7.0,>=4.5 in /usr/local/lib/python3.10/dist-packages (from aiohttp<4.0,>=3.0->cohere) (6.0.4)\n",
            "Requirement already satisfied: yarl<2.0,>=1.0 in /usr/local/lib/python3.10/dist-packages (from aiohttp<4.0,>=3.0->cohere) (1.9.4)\n",
            "Requirement already satisfied: async-timeout<5.0,>=4.0 in /usr/local/lib/python3.10/dist-packages (from aiohttp<4.0,>=3.0->cohere) (4.0.3)\n",
            "Requirement already satisfied: zipp>=0.5 in /usr/local/lib/python3.10/dist-packages (from importlib_metadata<7.0,>=6.0->cohere) (3.17.0)\n",
            "Requirement already satisfied: charset-normalizer<4,>=2 in /usr/local/lib/python3.10/dist-packages (from requests<3.0.0,>=2.25.0->cohere) (3.3.2)\n",
            "Requirement already satisfied: idna<4,>=2.5 in /usr/local/lib/python3.10/dist-packages (from requests<3.0.0,>=2.25.0->cohere) (3.6)\n",
            "Requirement already satisfied: certifi>=2017.4.17 in /usr/local/lib/python3.10/dist-packages (from requests<3.0.0,>=2.25.0->cohere) (2023.11.17)\n",
            "Installing collected packages: importlib_metadata, fastavro, backoff, cohere\n",
            "  Attempting uninstall: importlib_metadata\n",
            "    Found existing installation: importlib-metadata 7.0.1\n",
            "    Uninstalling importlib-metadata-7.0.1:\n",
            "      Successfully uninstalled importlib-metadata-7.0.1\n",
            "Successfully installed backoff-2.2.1 cohere-4.45 fastavro-1.9.3 importlib_metadata-6.11.0\n",
            "Requirement already satisfied: pandas in /usr/local/lib/python3.10/dist-packages (1.5.3)\n",
            "Requirement already satisfied: python-dateutil>=2.8.1 in /usr/local/lib/python3.10/dist-packages (from pandas) (2.8.2)\n",
            "Requirement already satisfied: pytz>=2020.1 in /usr/local/lib/python3.10/dist-packages (from pandas) (2023.4)\n",
            "Requirement already satisfied: numpy>=1.21.0 in /usr/local/lib/python3.10/dist-packages (from pandas) (1.23.5)\n",
            "Requirement already satisfied: six>=1.5 in /usr/local/lib/python3.10/dist-packages (from python-dateutil>=2.8.1->pandas) (1.16.0)\n",
            "Requirement already satisfied: matplotlib in /usr/local/lib/python3.10/dist-packages (3.7.1)\n",
            "Requirement already satisfied: contourpy>=1.0.1 in /usr/local/lib/python3.10/dist-packages (from matplotlib) (1.2.0)\n",
            "Requirement already satisfied: cycler>=0.10 in /usr/local/lib/python3.10/dist-packages (from matplotlib) (0.12.1)\n",
            "Requirement already satisfied: fonttools>=4.22.0 in /usr/local/lib/python3.10/dist-packages (from matplotlib) (4.47.2)\n",
            "Requirement already satisfied: kiwisolver>=1.0.1 in /usr/local/lib/python3.10/dist-packages (from matplotlib) (1.4.5)\n",
            "Requirement already satisfied: numpy>=1.20 in /usr/local/lib/python3.10/dist-packages (from matplotlib) (1.23.5)\n",
            "Requirement already satisfied: packaging>=20.0 in /usr/local/lib/python3.10/dist-packages (from matplotlib) (23.2)\n",
            "Requirement already satisfied: pillow>=6.2.0 in /usr/local/lib/python3.10/dist-packages (from matplotlib) (9.4.0)\n",
            "Requirement already satisfied: pyparsing>=2.3.1 in /usr/local/lib/python3.10/dist-packages (from matplotlib) (3.1.1)\n",
            "Requirement already satisfied: python-dateutil>=2.7 in /usr/local/lib/python3.10/dist-packages (from matplotlib) (2.8.2)\n",
            "Requirement already satisfied: six>=1.5 in /usr/local/lib/python3.10/dist-packages (from python-dateutil>=2.7->matplotlib) (1.16.0)\n",
            "Requirement already satisfied: seaborn in /usr/local/lib/python3.10/dist-packages (0.13.1)\n",
            "Requirement already satisfied: numpy!=1.24.0,>=1.20 in /usr/local/lib/python3.10/dist-packages (from seaborn) (1.23.5)\n",
            "Requirement already satisfied: pandas>=1.2 in /usr/local/lib/python3.10/dist-packages (from seaborn) (1.5.3)\n",
            "Requirement already satisfied: matplotlib!=3.6.1,>=3.4 in /usr/local/lib/python3.10/dist-packages (from seaborn) (3.7.1)\n",
            "Requirement already satisfied: contourpy>=1.0.1 in /usr/local/lib/python3.10/dist-packages (from matplotlib!=3.6.1,>=3.4->seaborn) (1.2.0)\n",
            "Requirement already satisfied: cycler>=0.10 in /usr/local/lib/python3.10/dist-packages (from matplotlib!=3.6.1,>=3.4->seaborn) (0.12.1)\n",
            "Requirement already satisfied: fonttools>=4.22.0 in /usr/local/lib/python3.10/dist-packages (from matplotlib!=3.6.1,>=3.4->seaborn) (4.47.2)\n",
            "Requirement already satisfied: kiwisolver>=1.0.1 in /usr/local/lib/python3.10/dist-packages (from matplotlib!=3.6.1,>=3.4->seaborn) (1.4.5)\n",
            "Requirement already satisfied: packaging>=20.0 in /usr/local/lib/python3.10/dist-packages (from matplotlib!=3.6.1,>=3.4->seaborn) (23.2)\n",
            "Requirement already satisfied: pillow>=6.2.0 in /usr/local/lib/python3.10/dist-packages (from matplotlib!=3.6.1,>=3.4->seaborn) (9.4.0)\n",
            "Requirement already satisfied: pyparsing>=2.3.1 in /usr/local/lib/python3.10/dist-packages (from matplotlib!=3.6.1,>=3.4->seaborn) (3.1.1)\n",
            "Requirement already satisfied: python-dateutil>=2.7 in /usr/local/lib/python3.10/dist-packages (from matplotlib!=3.6.1,>=3.4->seaborn) (2.8.2)\n",
            "Requirement already satisfied: pytz>=2020.1 in /usr/local/lib/python3.10/dist-packages (from pandas>=1.2->seaborn) (2023.4)\n",
            "Requirement already satisfied: six>=1.5 in /usr/local/lib/python3.10/dist-packages (from python-dateutil>=2.7->matplotlib!=3.6.1,>=3.4->seaborn) (1.16.0)\n",
            "Collecting langchain_experimental==0.0.49\n",
            "  Downloading langchain_experimental-0.0.49-py3-none-any.whl (165 kB)\n",
            "\u001b[2K     \u001b[90m━━━━━━━━━━━━━━━━━━━━━━━━━━━━━━━━━━━━━━━━\u001b[0m \u001b[32m165.7/165.7 kB\u001b[0m \u001b[31m4.8 MB/s\u001b[0m eta \u001b[36m0:00:00\u001b[0m\n",
            "\u001b[?25hCollecting langchain==0.1.0\n",
            "  Downloading langchain-0.1.0-py3-none-any.whl (797 kB)\n",
            "\u001b[2K     \u001b[90m━━━━━━━━━━━━━━━━━━━━━━━━━━━━━━━━━━━━━━━━\u001b[0m \u001b[32m798.0/798.0 kB\u001b[0m \u001b[31m37.3 MB/s\u001b[0m eta \u001b[36m0:00:00\u001b[0m\n",
            "\u001b[?25hCollecting langchain-core==0.1.10\n",
            "  Downloading langchain_core-0.1.10-py3-none-any.whl (216 kB)\n",
            "\u001b[2K     \u001b[90m━━━━━━━━━━━━━━━━━━━━━━━━━━━━━━━━━━━━━━━━\u001b[0m \u001b[32m216.6/216.6 kB\u001b[0m \u001b[31m25.7 MB/s\u001b[0m eta \u001b[36m0:00:00\u001b[0m\n",
            "\u001b[?25hRequirement already satisfied: PyYAML>=5.3 in /usr/local/lib/python3.10/dist-packages (from langchain==0.1.0) (6.0.1)\n",
            "Requirement already satisfied: SQLAlchemy<3,>=1.4 in /usr/local/lib/python3.10/dist-packages (from langchain==0.1.0) (2.0.24)\n",
            "Requirement already satisfied: aiohttp<4.0.0,>=3.8.3 in /usr/local/lib/python3.10/dist-packages (from langchain==0.1.0) (3.9.3)\n",
            "Requirement already satisfied: async-timeout<5.0.0,>=4.0.0 in /usr/local/lib/python3.10/dist-packages (from langchain==0.1.0) (4.0.3)\n",
            "Collecting dataclasses-json<0.7,>=0.5.7 (from langchain==0.1.0)\n",
            "  Downloading dataclasses_json-0.6.4-py3-none-any.whl (28 kB)\n",
            "Collecting jsonpatch<2.0,>=1.33 (from langchain==0.1.0)\n",
            "  Downloading jsonpatch-1.33-py2.py3-none-any.whl (12 kB)\n",
            "Collecting langchain-community<0.1,>=0.0.9 (from langchain==0.1.0)\n",
            "  Downloading langchain_community-0.0.17-py3-none-any.whl (1.6 MB)\n",
            "\u001b[2K     \u001b[90m━━━━━━━━━━━━━━━━━━━━━━━━━━━━━━━━━━━━━━━━\u001b[0m \u001b[32m1.6/1.6 MB\u001b[0m \u001b[31m73.6 MB/s\u001b[0m eta \u001b[36m0:00:00\u001b[0m\n",
            "\u001b[?25hCollecting langsmith<0.1.0,>=0.0.77 (from langchain==0.1.0)\n",
            "  Downloading langsmith-0.0.86-py3-none-any.whl (54 kB)\n",
            "\u001b[2K     \u001b[90m━━━━━━━━━━━━━━━━━━━━━━━━━━━━━━━━━━━━━━━━\u001b[0m \u001b[32m54.4/54.4 kB\u001b[0m \u001b[31m8.4 MB/s\u001b[0m eta \u001b[36m0:00:00\u001b[0m\n",
            "\u001b[?25hRequirement already satisfied: numpy<2,>=1 in /usr/local/lib/python3.10/dist-packages (from langchain==0.1.0) (1.23.5)\n",
            "Requirement already satisfied: pydantic<3,>=1 in /usr/local/lib/python3.10/dist-packages (from langchain==0.1.0) (1.10.14)\n",
            "Requirement already satisfied: requests<3,>=2 in /usr/local/lib/python3.10/dist-packages (from langchain==0.1.0) (2.31.0)\n",
            "Requirement already satisfied: tenacity<9.0.0,>=8.1.0 in /usr/local/lib/python3.10/dist-packages (from langchain==0.1.0) (8.2.3)\n",
            "Requirement already satisfied: anyio<5,>=3 in /usr/local/lib/python3.10/dist-packages (from langchain-core==0.1.10) (3.7.1)\n",
            "Requirement already satisfied: packaging<24.0,>=23.2 in /usr/local/lib/python3.10/dist-packages (from langchain-core==0.1.10) (23.2)\n",
            "Requirement already satisfied: aiosignal>=1.1.2 in /usr/local/lib/python3.10/dist-packages (from aiohttp<4.0.0,>=3.8.3->langchain==0.1.0) (1.3.1)\n",
            "Requirement already satisfied: attrs>=17.3.0 in /usr/local/lib/python3.10/dist-packages (from aiohttp<4.0.0,>=3.8.3->langchain==0.1.0) (23.2.0)\n",
            "Requirement already satisfied: frozenlist>=1.1.1 in /usr/local/lib/python3.10/dist-packages (from aiohttp<4.0.0,>=3.8.3->langchain==0.1.0) (1.4.1)\n",
            "Requirement already satisfied: multidict<7.0,>=4.5 in /usr/local/lib/python3.10/dist-packages (from aiohttp<4.0.0,>=3.8.3->langchain==0.1.0) (6.0.4)\n",
            "Requirement already satisfied: yarl<2.0,>=1.0 in /usr/local/lib/python3.10/dist-packages (from aiohttp<4.0.0,>=3.8.3->langchain==0.1.0) (1.9.4)\n",
            "Requirement already satisfied: idna>=2.8 in /usr/local/lib/python3.10/dist-packages (from anyio<5,>=3->langchain-core==0.1.10) (3.6)\n",
            "Requirement already satisfied: sniffio>=1.1 in /usr/local/lib/python3.10/dist-packages (from anyio<5,>=3->langchain-core==0.1.10) (1.3.0)\n",
            "Requirement already satisfied: exceptiongroup in /usr/local/lib/python3.10/dist-packages (from anyio<5,>=3->langchain-core==0.1.10) (1.2.0)\n",
            "Collecting marshmallow<4.0.0,>=3.18.0 (from dataclasses-json<0.7,>=0.5.7->langchain==0.1.0)\n",
            "  Downloading marshmallow-3.20.2-py3-none-any.whl (49 kB)\n",
            "\u001b[2K     \u001b[90m━━━━━━━━━━━━━━━━━━━━━━━━━━━━━━━━━━━━━━━━\u001b[0m \u001b[32m49.4/49.4 kB\u001b[0m \u001b[31m6.8 MB/s\u001b[0m eta \u001b[36m0:00:00\u001b[0m\n",
            "\u001b[?25hCollecting typing-inspect<1,>=0.4.0 (from dataclasses-json<0.7,>=0.5.7->langchain==0.1.0)\n",
            "  Downloading typing_inspect-0.9.0-py3-none-any.whl (8.8 kB)\n",
            "Collecting jsonpointer>=1.9 (from jsonpatch<2.0,>=1.33->langchain==0.1.0)\n",
            "  Downloading jsonpointer-2.4-py2.py3-none-any.whl (7.8 kB)\n",
            "INFO: pip is looking at multiple versions of langchain-community to determine which version is compatible with other requirements. This could take a while.\n",
            "Collecting langchain-community<0.1,>=0.0.9 (from langchain==0.1.0)\n",
            "  Downloading langchain_community-0.0.16-py3-none-any.whl (1.6 MB)\n",
            "\u001b[2K     \u001b[90m━━━━━━━━━━━━━━━━━━━━━━━━━━━━━━━━━━━━━━━━\u001b[0m \u001b[32m1.6/1.6 MB\u001b[0m \u001b[31m67.4 MB/s\u001b[0m eta \u001b[36m0:00:00\u001b[0m\n",
            "\u001b[?25h  Downloading langchain_community-0.0.15-py3-none-any.whl (1.6 MB)\n",
            "\u001b[2K     \u001b[90m━━━━━━━━━━━━━━━━━━━━━━━━━━━━━━━━━━━━━━━━\u001b[0m \u001b[32m1.6/1.6 MB\u001b[0m \u001b[31m6.8 MB/s\u001b[0m eta \u001b[36m0:00:00\u001b[0m\n",
            "\u001b[?25h  Downloading langchain_community-0.0.14-py3-none-any.whl (1.6 MB)\n",
            "\u001b[2K     \u001b[90m━━━━━━━━━━━━━━━━━━━━━━━━━━━━━━━━━━━━━━━━\u001b[0m \u001b[32m1.6/1.6 MB\u001b[0m \u001b[31m83.1 MB/s\u001b[0m eta \u001b[36m0:00:00\u001b[0m\n",
            "\u001b[?25h  Downloading langchain_community-0.0.13-py3-none-any.whl (1.6 MB)\n",
            "\u001b[2K     \u001b[90m━━━━━━━━━━━━━━━━━━━━━━━━━━━━━━━━━━━━━━━━\u001b[0m \u001b[32m1.6/1.6 MB\u001b[0m \u001b[31m86.5 MB/s\u001b[0m eta \u001b[36m0:00:00\u001b[0m\n",
            "\u001b[?25hRequirement already satisfied: typing-extensions>=4.2.0 in /usr/local/lib/python3.10/dist-packages (from pydantic<3,>=1->langchain==0.1.0) (4.9.0)\n",
            "Requirement already satisfied: charset-normalizer<4,>=2 in /usr/local/lib/python3.10/dist-packages (from requests<3,>=2->langchain==0.1.0) (3.3.2)\n",
            "Requirement already satisfied: urllib3<3,>=1.21.1 in /usr/local/lib/python3.10/dist-packages (from requests<3,>=2->langchain==0.1.0) (2.0.7)\n",
            "Requirement already satisfied: certifi>=2017.4.17 in /usr/local/lib/python3.10/dist-packages (from requests<3,>=2->langchain==0.1.0) (2023.11.17)\n",
            "Requirement already satisfied: greenlet!=0.4.17 in /usr/local/lib/python3.10/dist-packages (from SQLAlchemy<3,>=1.4->langchain==0.1.0) (3.0.3)\n",
            "Collecting mypy-extensions>=0.3.0 (from typing-inspect<1,>=0.4.0->dataclasses-json<0.7,>=0.5.7->langchain==0.1.0)\n",
            "  Downloading mypy_extensions-1.0.0-py3-none-any.whl (4.7 kB)\n",
            "Installing collected packages: mypy-extensions, marshmallow, jsonpointer, typing-inspect, langsmith, jsonpatch, langchain-core, dataclasses-json, langchain-community, langchain, langchain_experimental\n",
            "Successfully installed dataclasses-json-0.6.4 jsonpatch-1.33 jsonpointer-2.4 langchain-0.1.0 langchain-community-0.0.13 langchain-core-0.1.10 langchain_experimental-0.0.49 langsmith-0.0.86 marshmallow-3.20.2 mypy-extensions-1.0.0 typing-inspect-0.9.0\n"
          ]
        }
      ],
      "source": [
        "!pip install tiktoken;\n",
        "!pip install openai==1.7.1;\n",
        "!pip install pypdf;\n",
        "!pip install faiss-gpu;\n",
        "!pip install google-search-results;\n",
        "!pip install cohere;\n",
        "!pip install pandas;\n",
        "!pip install matplotlib;\n",
        "!pip install seaborn;\n",
        "!pip install langchain_experimental==0.0.49 langchain==0.1.0 langchain-core==0.1.10;"
      ]
    },
    {
      "cell_type": "markdown",
      "source": [
        "## **Displaying the OpenAI Library Version**"
      ],
      "metadata": {
        "id": "yRD78g26dI27"
      }
    },
    {
      "cell_type": "code",
      "source": [
        "!pip3 show openai;"
      ],
      "metadata": {
        "id": "UABVzgMghPfp"
      },
      "execution_count": null,
      "outputs": []
    },
    {
      "cell_type": "markdown",
      "source": [
        "## **Importing the libraries required**"
      ],
      "metadata": {
        "id": "Z24jRTufeLR_"
      }
    },
    {
      "cell_type": "code",
      "source": [
        "import os;\n",
        "import pandas as pd;\n",
        "import matplotlib.pyplot as plt;\n",
        "import seaborn as sns;\n",
        "from langchain_experimental.agents.agent_toolkits.pandas.base import create_pandas_dataframe_agent;\n",
        "from langchain.llms import OpenAI;\n",
        "from langchain.chat_models import ChatOpenAI;\n",
        "from langchain.agents.agent_types import AgentType;"
      ],
      "metadata": {
        "id": "Nsczv80XiaFB"
      },
      "execution_count": null,
      "outputs": []
    },
    {
      "cell_type": "markdown",
      "source": [
        "## **Utilizing the OpenAI API Key and API Base**"
      ],
      "metadata": {
        "id": "HcU_6CC9ePNS"
      }
    },
    {
      "cell_type": "markdown",
      "source": [
        "While the subsequent cells in this notebok have already been run using an OpenAI API Key and API Base with outputs visible, these details are currently not provided in the following cell.\n",
        "\n",
        "You can access your individual OpenAI API Key and API Base URL through the Settings page in the Olympus Great Learning LMS - please refer to the document with instructions provided separately in order to do this."
      ],
      "metadata": {
        "id": "zSapKXTFeXNc"
      }
    },
    {
      "cell_type": "code",
      "source": [
        "API_KEY = '_____';\n",
        "OPENAI_API_BASE = '_____';\n",
        "\n",
        "os.environ['OPENAI_API_KEY'] = API_KEY;\n",
        "os.environ['OPENAI_API_BASE'] = OPENAI_API_BASE;"
      ],
      "metadata": {
        "id": "mxbxktS7odL6"
      },
      "execution_count": null,
      "outputs": []
    },
    {
      "cell_type": "markdown",
      "source": [
        "## **Creating the LLM Instance**"
      ],
      "metadata": {
        "id": "e8wNzskPfRL5"
      }
    },
    {
      "cell_type": "markdown",
      "source": [
        "Having provided details to access the OpenAI API, we can now create an LLM instance by using the ChatOpenAI() function and providing a model name - in this case, GPT-4. This LLM is the core of our LangChain agent, and it will be responsible for responding to our user queries (conditional to the additional prompts that LangChain provides it)."
      ],
      "metadata": {
        "id": "WHlLqaRHmAsx"
      }
    },
    {
      "cell_type": "code",
      "source": [
        "llm = ChatOpenAI(model_name = 'gpt-4');"
      ],
      "metadata": {
        "id": "QlqCONCyo8L6"
      },
      "execution_count": null,
      "outputs": []
    },
    {
      "cell_type": "markdown",
      "source": [
        "## **Loading in the dataset**"
      ],
      "metadata": {
        "id": "yy9Mp5lBft10"
      }
    },
    {
      "cell_type": "markdown",
      "source": [
        "Like we would always do for a Data Science project, we shall begin by using the read_csv() function to load in our dataset. For our trial in this notebook, we shall be working with the [Pima Indians Diabetes](https://www.kaggle.com/datasets/uciml/pima-indians-diabetes-database) dataset, a popular open-source Machine Learning dataset that assesses if a person of the Pima tribe origin has diabetes or not, based on a number of health factors."
      ],
      "metadata": {
        "id": "xkktus53fwd5"
      }
    },
    {
      "cell_type": "code",
      "source": [
        "df = pd.read_csv('diabetes.csv');"
      ],
      "metadata": {
        "id": "WiEa2vXhtnMk"
      },
      "execution_count": null,
      "outputs": []
    },
    {
      "cell_type": "markdown",
      "source": [
        "## **Creating the Pandas DataFrame Agent**"
      ],
      "metadata": {
        "id": "UQAvegDIgbZx"
      }
    },
    {
      "cell_type": "markdown",
      "source": [
        "The particular type of LangChain agent we shall be working with is a called a Pandas DataFrame agent - this agent is a specific instance of using an LLM such as GPT-4 to analyze a Pandas DataFrame with custom prompts and instructions provided by LangChain to the LLM for that purpose. We shall also set the verbose parameter in the following function to True, so that we can follow the internal thought process behind how the LLM arrives at its answers."
      ],
      "metadata": {
        "id": "c62D78rol6V5"
      }
    },
    {
      "cell_type": "code",
      "source": [
        "agent = create_pandas_dataframe_agent(llm = llm, df = df, verbose = True);"
      ],
      "metadata": {
        "id": "VXYwKpqk5Yo3"
      },
      "execution_count": null,
      "outputs": []
    },
    {
      "cell_type": "markdown",
      "source": [
        "## **Query 1: Counting the number of rows**"
      ],
      "metadata": {
        "id": "4yrYjQiEhMUP"
      }
    },
    {
      "cell_type": "markdown",
      "source": [
        "We can start off with a simple query - let's ask the agent for the number of rows present in this dataset."
      ],
      "metadata": {
        "id": "SUQIqnQJhSaL"
      }
    },
    {
      "cell_type": "code",
      "source": [
        "user_message = 'How many rows are there?';\n",
        "agent.run(user_message);"
      ],
      "metadata": {
        "colab": {
          "base_uri": "https://localhost:8080/"
        },
        "id": "57MIE_Sj6H_C",
        "outputId": "1d703450-db43-4460-c5c8-d89790327ded"
      },
      "execution_count": null,
      "outputs": [
        {
          "output_type": "stream",
          "name": "stdout",
          "text": [
            "\n",
            "\n",
            "\u001b[1m> Entering new AgentExecutor chain...\u001b[0m\n",
            "\u001b[32;1m\u001b[1;3mThought: I need to find the number of rows in the dataframe. This can be done using the len() function or the shape attribute of a dataframe.\n",
            "Action: python_repl_ast\n",
            "Action Input: len(df)\u001b[0m\n",
            "Observation: \u001b[36;1m\u001b[1;3m768\u001b[0m\n",
            "Thought:\u001b[32;1m\u001b[1;3mThe output of the len() function indicates the number of rows in the dataframe.\n",
            "Final Answer: There are 768 rows in the dataframe.\u001b[0m\n",
            "\n",
            "\u001b[1m> Finished chain.\u001b[0m\n"
          ]
        }
      ]
    },
    {
      "cell_type": "markdown",
      "source": [
        "As we can see from above, **the LLM agent uses a particular framework provided by LangChain (popularly called the ReAct Framework - Reason and Act)**, which forces it to carry out a structured thinking process in order to respond to our query. This is subtly different from interacting directly with an assistant-style LLM with our own query and system prompt - in this scenario, LangChain already has a system prompt in place for its agents that asks the LLM to use the ReAct Framework (with Thoughts, Actions and Observations) to come up with the Final Answer.  \n",
        "\n",
        "In the example above, the LLM first generates a Thought on how it can find the number of rows in the DataFrame. This is then converted to an Action, the Pandas code that corresponds to the Thought, and that then leads to an Observation (which is the output of that Pandas code). The LLM then again reasons with itself using another Thought, which deduces that this Observation is in fact the final answer it is required to give, and it frames a Final Answer based on that finding.\n",
        "\n",
        "The number of these Thought - Action - Observation cycles will vary depending on the complexity of the user query - the more complex the query, the higher the number of such cycles required by the LLM agent to give us our final answer, which in a way, mirrors how we humans arrive at answers to questions of varying complexity with our reasoning process as well.\n",
        "\n",
        "In the following examples, let's ask EDA-style questions of increasing complexity to the LLM."
      ],
      "metadata": {
        "id": "jQYYWtzJiIbD"
      }
    },
    {
      "cell_type": "markdown",
      "source": [
        "## **Query 2: Retrieving the number and names of the columns**"
      ],
      "metadata": {
        "id": "JjGMabGxkVJb"
      }
    },
    {
      "cell_type": "code",
      "source": [
        "user_message = 'How many different columns are there in the dataset? What are the names of these columns?';\n",
        "agent.run(user_message);"
      ],
      "metadata": {
        "colab": {
          "base_uri": "https://localhost:8080/"
        },
        "id": "wmdP7GjS6O28",
        "outputId": "049fc760-e323-47be-8231-384f5ede8e7a"
      },
      "execution_count": null,
      "outputs": [
        {
          "output_type": "stream",
          "name": "stdout",
          "text": [
            "\n",
            "\n",
            "\u001b[1m> Entering new AgentExecutor chain...\u001b[0m\n",
            "\u001b[32;1m\u001b[1;3mThought: The columns of a dataframe can be accessed using the `columns` attribute. By printing this, I can see the names of all the columns. The number of columns can be determined by counting the number of elements in this list.\n",
            "Action: python_repl_ast\n",
            "Action Input: print(df.columns)\u001b[0m\n",
            "Observation: \u001b[36;1m\u001b[1;3mIndex(['Pregnancies', 'Glucose', 'BloodPressure', 'SkinThickness', 'Insulin',\n",
            "       'BMI', 'DiabetesPedigreeFunction', 'Age', 'Outcome'],\n",
            "      dtype='object')\n",
            "\u001b[0m\n",
            "Thought:\u001b[32;1m\u001b[1;3mThe names of the columns are 'Pregnancies', 'Glucose', 'BloodPressure', 'SkinThickness', 'Insulin', 'BMI', 'DiabetesPedigreeFunction', 'Age', 'Outcome'. Now I will count the number of these columns.\n",
            "Action: python_repl_ast\n",
            "Action Input: len(df.columns)\u001b[0m\n",
            "Observation: \u001b[36;1m\u001b[1;3m9\u001b[0m\n",
            "Thought:\u001b[32;1m\u001b[1;3mI now know the final answer.\n",
            "Final Answer: There are 9 different columns in the dataset. The names of these columns are 'Pregnancies', 'Glucose', 'BloodPressure', 'SkinThickness', 'Insulin', 'BMI', 'DiabetesPedigreeFunction', 'Age', 'Outcome'.\u001b[0m\n",
            "\n",
            "\u001b[1m> Finished chain.\u001b[0m\n"
          ]
        }
      ]
    },
    {
      "cell_type": "markdown",
      "source": [
        "## **Query 3: Checking for missing values in the dataset**"
      ],
      "metadata": {
        "id": "-Ml1I-lFkgmI"
      }
    },
    {
      "cell_type": "code",
      "source": [
        "user_message = 'Are there any missing values in the dataset?';\n",
        "agent.run(user_message);"
      ],
      "metadata": {
        "colab": {
          "base_uri": "https://localhost:8080/"
        },
        "id": "sjecU-gw6hXx",
        "outputId": "44549b73-9e69-4324-b9d8-75c55c98b9af"
      },
      "execution_count": null,
      "outputs": [
        {
          "output_type": "stream",
          "name": "stdout",
          "text": [
            "\n",
            "\n",
            "\u001b[1m> Entering new AgentExecutor chain...\u001b[0m\n",
            "\u001b[32;1m\u001b[1;3mThought: In order to check if there are missing values in the dataframe, I can use the `isnull()` function, which returns a dataframe of the same size as `df` but with `True` in places where the original dataframe had `NaN` and `False` elsewhere. To count the number of `True` values (i.e., the number of missing values) in the entire dataframe, I can use the `sum()` function twice.\n",
            "Action: python_repl_ast\n",
            "Action Input: df.isnull().sum().sum()\u001b[0m\n",
            "Observation: \u001b[36;1m\u001b[1;3m0\u001b[0m\n",
            "Thought:\u001b[32;1m\u001b[1;3mThe result is 0, which means there are no missing values in the dataset.\n",
            "Final Answer: No, there are no missing values in the dataset.\u001b[0m\n",
            "\n",
            "\u001b[1m> Finished chain.\u001b[0m\n"
          ]
        }
      ]
    },
    {
      "cell_type": "markdown",
      "source": [
        "## **Query 4: Obtaining the average age of the people in the dataset**"
      ],
      "metadata": {
        "id": "YWT2Xkp5kvd3"
      }
    },
    {
      "cell_type": "code",
      "source": [
        "user_message = 'What is the average Age in the dataset?';\n",
        "agent.run(user_message);"
      ],
      "metadata": {
        "colab": {
          "base_uri": "https://localhost:8080/"
        },
        "id": "1SmGcegp67Ku",
        "outputId": "1923dbbe-50e4-463e-8342-cc98f40d36ef"
      },
      "execution_count": null,
      "outputs": [
        {
          "output_type": "stream",
          "name": "stdout",
          "text": [
            "\n",
            "\n",
            "\u001b[1m> Entering new AgentExecutor chain...\u001b[0m\n",
            "\u001b[32;1m\u001b[1;3mThought: I need to find the average of the \"Age\" column in the dataframe.\n",
            "Action: python_repl_ast\n",
            "Action Input: df['Age'].mean()\u001b[0m\n",
            "Observation: \u001b[36;1m\u001b[1;3m33.240885416666664\u001b[0m\n",
            "Thought:\u001b[32;1m\u001b[1;3mI now know the average age in the dataset.\n",
            "Final Answer: The average age in the dataset is approximately 33.24 years.\u001b[0m\n",
            "\n",
            "\u001b[1m> Finished chain.\u001b[0m\n"
          ]
        }
      ]
    },
    {
      "cell_type": "markdown",
      "source": [
        "## **Query 5: Displaying a brief summary of the columns**"
      ],
      "metadata": {
        "id": "XRf5VdHNlCGK"
      }
    },
    {
      "cell_type": "code",
      "source": [
        "user_message = 'Can you display a brief summary of the columns in the dataset for me?'\n",
        "agent.run(user_message);"
      ],
      "metadata": {
        "colab": {
          "base_uri": "https://localhost:8080/"
        },
        "id": "XHJB8SVz7PDM",
        "outputId": "c88fc991-1dde-4753-dfa6-9f046d32fc40"
      },
      "execution_count": null,
      "outputs": [
        {
          "output_type": "stream",
          "name": "stdout",
          "text": [
            "\n",
            "\n",
            "\u001b[1m> Entering new AgentExecutor chain...\u001b[0m\n",
            "\u001b[32;1m\u001b[1;3mThought: I can use the `df.info()` function to display a brief summary of the columns in the dataset.\n",
            "Action: python_repl_ast\n",
            "Action Input: df.info()\u001b[0m\n",
            "Observation: \u001b[36;1m\u001b[1;3m<class 'pandas.core.frame.DataFrame'>\n",
            "RangeIndex: 768 entries, 0 to 767\n",
            "Data columns (total 9 columns):\n",
            " #   Column                    Non-Null Count  Dtype  \n",
            "---  ------                    --------------  -----  \n",
            " 0   Pregnancies               768 non-null    int64  \n",
            " 1   Glucose                   768 non-null    int64  \n",
            " 2   BloodPressure             768 non-null    int64  \n",
            " 3   SkinThickness             768 non-null    int64  \n",
            " 4   Insulin                   768 non-null    int64  \n",
            " 5   BMI                       768 non-null    float64\n",
            " 6   DiabetesPedigreeFunction  768 non-null    float64\n",
            " 7   Age                       768 non-null    int64  \n",
            " 8   Outcome                   768 non-null    int64  \n",
            "dtypes: float64(2), int64(7)\n",
            "memory usage: 54.1 KB\n",
            "\u001b[0m\n",
            "Thought:\u001b[32;1m\u001b[1;3mThe dataframe has 9 columns, of which 7 are of int64 type and 2 are of float64 type. There are 768 entries in the dataframe, and none of the columns contain any null values.\n",
            "Final Answer: The dataframe has 9 columns namely 'Pregnancies', 'Glucose', 'BloodPressure', 'SkinThickness', 'Insulin', 'BMI', 'DiabetesPedigreeFunction', 'Age' and 'Outcome'. All the columns contain 768 non-null values. The type of data in 'Pregnancies', 'Glucose', 'BloodPressure', 'SkinThickness', 'Insulin', 'Age' and 'Outcome' is int64, whereas 'BMI' and 'DiabetesPedigreeFunction' are of float64 type.\u001b[0m\n",
            "\n",
            "\u001b[1m> Finished chain.\u001b[0m\n"
          ]
        }
      ]
    },
    {
      "cell_type": "markdown",
      "source": [
        "## **Query 6: Plotting a Correlation Heatmap**"
      ],
      "metadata": {
        "id": "MFTQeExwlt6e"
      }
    },
    {
      "cell_type": "markdown",
      "source": [
        "In this example, we shall ask the agent to plot a correlation heatmap among the columns and comment on the trends observed in terms of which columns seem most strongly correlated with each other. We shall see that the LLM is capable of servicing this more complex request."
      ],
      "metadata": {
        "id": "7Z003jm5l4u7"
      }
    },
    {
      "cell_type": "code",
      "source": [
        "user_message = 'Plot a correlation heatmap, showing correlations among all the columns. Label the axes, and comment on the main trends.';\n",
        "agent.run(user_message);"
      ],
      "metadata": {
        "colab": {
          "base_uri": "https://localhost:8080/",
          "height": 1000
        },
        "id": "8cTQ0e2I7eL0",
        "outputId": "ce4fede2-568a-4eb2-d0f5-c24f05d8954d"
      },
      "execution_count": null,
      "outputs": [
        {
          "output_type": "stream",
          "name": "stdout",
          "text": [
            "\n",
            "\n",
            "\u001b[1m> Entering new AgentExecutor chain...\u001b[0m\n",
            "\u001b[32;1m\u001b[1;3mThought: To plot a correlation heatmap, we first need to find the correlation matrix of the dataframe. We can use the corr() function in pandas to find this. Then we can use seaborn's heatmap function to plot this matrix.\n",
            "\n",
            "Action: python_repl_ast\n",
            "Action Input: df.corr()\u001b[0m\n",
            "Observation: \u001b[36;1m\u001b[1;3m                          Pregnancies   Glucose  BloodPressure  SkinThickness  \\\n",
            "Pregnancies                  1.000000  0.129459       0.141282      -0.081672   \n",
            "Glucose                      0.129459  1.000000       0.152590       0.057328   \n",
            "BloodPressure                0.141282  0.152590       1.000000       0.207371   \n",
            "SkinThickness               -0.081672  0.057328       0.207371       1.000000   \n",
            "Insulin                     -0.073535  0.331357       0.088933       0.436783   \n",
            "BMI                          0.017683  0.221071       0.281805       0.392573   \n",
            "DiabetesPedigreeFunction    -0.033523  0.137337       0.041265       0.183928   \n",
            "Age                          0.544341  0.263514       0.239528      -0.113970   \n",
            "Outcome                      0.221898  0.466581       0.065068       0.074752   \n",
            "\n",
            "                           Insulin       BMI  DiabetesPedigreeFunction  \\\n",
            "Pregnancies              -0.073535  0.017683                 -0.033523   \n",
            "Glucose                   0.331357  0.221071                  0.137337   \n",
            "BloodPressure             0.088933  0.281805                  0.041265   \n",
            "SkinThickness             0.436783  0.392573                  0.183928   \n",
            "Insulin                   1.000000  0.197859                  0.185071   \n",
            "BMI                       0.197859  1.000000                  0.140647   \n",
            "DiabetesPedigreeFunction  0.185071  0.140647                  1.000000   \n",
            "Age                      -0.042163  0.036242                  0.033561   \n",
            "Outcome                   0.130548  0.292695                  0.173844   \n",
            "\n",
            "                               Age   Outcome  \n",
            "Pregnancies               0.544341  0.221898  \n",
            "Glucose                   0.263514  0.466581  \n",
            "BloodPressure             0.239528  0.065068  \n",
            "SkinThickness            -0.113970  0.074752  \n",
            "Insulin                  -0.042163  0.130548  \n",
            "BMI                       0.036242  0.292695  \n",
            "DiabetesPedigreeFunction  0.033561  0.173844  \n",
            "Age                       1.000000  0.238356  \n",
            "Outcome                   0.238356  1.000000  \u001b[0m\n",
            "Thought:\u001b[32;1m\u001b[1;3mNow that we have the correlation matrix, we can use seaborn's heatmap function to plot this. Make sure to import seaborn before trying to use it.\n",
            "\n",
            "Action: python_repl_ast\n",
            "Action Input: \n",
            "```\n",
            "import seaborn as sns\n",
            "import matplotlib.pyplot as plt\n",
            "\n",
            "plt.figure(figsize=(10,8))\n",
            "\n",
            "# plot correlation heatmap\n",
            "sns.heatmap(df.corr(), annot=True, cmap=\"coolwarm\", center=0)\n",
            "plt.title('Correlation Heatmap')\n",
            "plt.show()\n",
            "```\u001b[0m"
          ]
        },
        {
          "output_type": "display_data",
          "data": {
            "text/plain": [
              "<Figure size 1000x800 with 2 Axes>"
            ],
            "image/png": "[encoded data removed]"
          },
          "metadata": {}
        },
        {
          "output_type": "stream",
          "name": "stdout",
          "text": [
            "\n",
            "Observation: \u001b[36;1m\u001b[1;3m\u001b[0m\n",
            "Thought:\u001b[32;1m\u001b[1;3mThe seaborn heatmap function should have created a visual representation of the correlation matrix. The color in each cell represents the strength and direction of the correlation between two variables. A darker color means a stronger correlation. The direction is represented as either positive (blue) or negative (red). The diagonal line of the heatmap represents the correlation of a variable with itself, which is always 1. \n",
            "\n",
            "Final Answer: From the heatmap, it can be seen that there is a positive correlation between 'Glucose' and 'Outcome', meaning that a higher glucose level could indicate a higher likelihood of diabetes. Also, 'Age' and 'Pregnancies' are positively correlated, indicating that as a woman ages, she is likely to have had more pregnancies. On the other hand, 'SkinThickness' and 'Insulin' have a significant positive correlation. The heatmap aids in understanding the relationship between different variables in the dataset.\u001b[0m\n",
            "\n",
            "\u001b[1m> Finished chain.\u001b[0m\n"
          ]
        }
      ]
    },
    {
      "cell_type": "markdown",
      "source": [
        "As we can see from the answer above, the agent correctly surmises a couple of more meaningful pairwise correlations - the Glucose/Outcome pair and the Age/Pregnancies pair. **In addition to just pointing out that these correlations are relatively strong, the agent also attempts to give a trend explanation** by saying for example, that \"a higher glucose level could indicate a higher likelihood of diabetes\" or \"as a woman ages, she is likely to have had more pregnancies\" - showing that the LLM has Natural Language Understanding of the the meanings of the column names."
      ],
      "metadata": {
        "id": "bYxNu-BEnKWE"
      }
    },
    {
      "cell_type": "markdown",
      "source": [
        "## **Query 7: Hypothesis Testing**"
      ],
      "metadata": {
        "id": "jK3zY6p-n89L"
      }
    },
    {
      "cell_type": "markdown",
      "source": [
        "In addition to the EDA style queries we have been asking the LLM to service above, it is also capable of performing tasks like Hypothesis Testing to statistically validate a quantitative claim we may have about the data - a useful endeavor when it comes to Data Science decision making. In the following example, we shall ask the LLM to use a T-test to validate whether higher levels of glucose increase the likelihood of diabetes or not."
      ],
      "metadata": {
        "id": "lGDi21n-n_xY"
      }
    },
    {
      "cell_type": "code",
      "source": [
        "user_message = 'Validate the following hypothesis using a T-test. Null Hypothesis: Higher levels of Glucose do not increase the risk of Outcome 1. Alternate Hypothesis: Higher levels of Glucose increase the risk of Outcome 1.';\n",
        "agent.run(user_message);"
      ],
      "metadata": {
        "colab": {
          "base_uri": "https://localhost:8080/"
        },
        "id": "biE41BEf8HZw",
        "outputId": "57bbd3e9-6254-4016-edad-64dd18fcb01e"
      },
      "execution_count": null,
      "outputs": [
        {
          "output_type": "stream",
          "name": "stdout",
          "text": [
            "\n",
            "\n",
            "\u001b[1m> Entering new AgentExecutor chain...\u001b[0m\n",
            "\u001b[32;1m\u001b[1;3mThought: The T-test is a statistical test used to determine whether there is a significant difference between the means of two groups. To perform the T-test, we need two samples. In this case, our two groups are those with Outcome 1 and those without (Outcome 0). We will need to separate our dataframe into these two groups, based on the value of the 'Outcome' variable.\n",
            "Action: python_repl_ast\n",
            "Action Input: df_outcome1 = df[df['Outcome'] == 1]\n",
            "df_outcome0 = df[df['Outcome'] == 0]\u001b[0m\n",
            "Observation: \u001b[36;1m\u001b[1;3m\u001b[0m\n",
            "Thought:\u001b[32;1m\u001b[1;3mNow that we have separated the data into two groups, we can perform the T-test. We will be comparing the 'Glucose' variable between the two groups.\n",
            "Action: python_repl_ast\n",
            "Action Input: from scipy.stats import ttest_ind\n",
            "\n",
            "t_stat, p_val = ttest_ind(df_outcome1['Glucose'], df_outcome0['Glucose'])\n",
            "t_stat, p_val\u001b[0m\n",
            "Observation: \u001b[36;1m\u001b[1;3m(14.600060005973894, 8.935431645289913e-43)\u001b[0m\n",
            "Thought:\u001b[32;1m\u001b[1;3mThe t-statistic is 14.6, and the p-value is approximately 8.94e-43. The p-value is less than 0.05, which means that we reject the null hypothesis. Therefore, there is a significant difference between the glucose levels of those with Outcome 1 and those without. \n",
            "Final Answer: Higher levels of Glucose do increase the risk of Outcome 1.\u001b[0m\n",
            "\n",
            "\u001b[1m> Finished chain.\u001b[0m\n"
          ]
        }
      ]
    },
    {
      "cell_type": "markdown",
      "source": [
        "## **Query 8: Machine Learning Modeling**"
      ],
      "metadata": {
        "id": "Bu3Bp8Q3oAzs"
      }
    },
    {
      "cell_type": "markdown",
      "source": [
        "Finally, we can also get the LLM agent to perform Machine Learning modeling. Let us attempt to create a Logistic Regression model that aims to classify whether a person is likely to have diabetes or not given their health measurements.\n",
        "\n",
        "Since Machine Learning is a multi-step process - we will need to spell out the exact steps the agent is required to follow, the model it needs to use (Logistic Regression) and the outputs we expect from it (the Confusion Matrix and the Accuracy Score) - as such, a longer, step-by-step prompt will be required."
      ],
      "metadata": {
        "id": "0CY4lmZBoDHX"
      }
    },
    {
      "cell_type": "code",
      "source": [
        "user_message = 'Follow these steps to run a Logistic Regression model to predict the Outcome variable:\\\n",
        "1. Clean the dataset so it has no null values.\\\n",
        "2. Preprocess the dataset so it is ready for use by a Logistic Regression model.\\\n",
        "3. Run Logistic Regression to classify people into Outcome 1 or Outcome 0 with the following steps:\\\n",
        "3a. Split the data into Train and Test sets. These datasets should not contain the Outcome column.\\\n",
        "3b. Train the model on the Train dataset. Make sure the model converges, so use as many iterations as necessary for that.\\\n",
        "3c. Obtain y_pred by predicting on X_test and use a threshold to convert y_pred into binary values.\\\n",
        "3d. Plot the Confusion Matrix, print the accuracy score between binary y_pred and y_test, and comment on the predictive performance of the model.'\n",
        "\n",
        "agent.run(user_message);"
      ],
      "metadata": {
        "colab": {
          "base_uri": "https://localhost:8080/",
          "height": 1000
        },
        "id": "zcCO6sdk-vAd",
        "outputId": "30addb1f-6f42-4414-e087-1f8c8078d449"
      },
      "execution_count": null,
      "outputs": [
        {
          "output_type": "stream",
          "name": "stdout",
          "text": [
            "\n",
            "\n",
            "\u001b[1m> Entering new AgentExecutor chain...\u001b[0m\n",
            "\u001b[32;1m\u001b[1;3mThought: We will first check if there are any null values in the dataset.\n",
            "Action: python_repl_ast\n",
            "Action Input: df.isnull().sum()\u001b[0m\n",
            "Observation: \u001b[36;1m\u001b[1;3mPregnancies                 0\n",
            "Glucose                     0\n",
            "BloodPressure               0\n",
            "SkinThickness               0\n",
            "Insulin                     0\n",
            "BMI                         0\n",
            "DiabetesPedigreeFunction    0\n",
            "Age                         0\n",
            "Outcome                     0\n",
            "dtype: int64\u001b[0m\n",
            "Thought:\u001b[32;1m\u001b[1;3mThere are no null values in the dataset, so no cleaning is required. Next, we will preprocess the dataset by separating the independent and dependent variables (X and y respectively), and then splitting them into training and testing datasets.\n",
            "Action: python_repl_ast\n",
            "Action Input: \n",
            "```\n",
            "from sklearn.model_selection import train_test_split\n",
            "\n",
            "# Separate independent and dependent variables\n",
            "X = df.drop('Outcome', axis=1)\n",
            "y = df['Outcome']\n",
            "\n",
            "# Split into training and testing datasets\n",
            "X_train, X_test, y_train, y_test = train_test_split(X, y, test_size=0.2, random_state=42)\n",
            "```\u001b[0m\n",
            "Observation: \u001b[36;1m\u001b[1;3m\u001b[0m\n",
            "Thought:\u001b[32;1m\u001b[1;3mThe data has been split into training and testing sets. Now, we will run a logistic regression model on this data.\n",
            "Action: python_repl_ast\n",
            "Action Input: \n",
            "```\n",
            "from sklearn.linear_model import LogisticRegression\n",
            "from sklearn.metrics import confusion_matrix, accuracy_score\n",
            "import matplotlib.pyplot as plt\n",
            "import seaborn as sns\n",
            "\n",
            "# Initialize and fit Logistic Regression model\n",
            "model = LogisticRegression(max_iter=10000)\n",
            "model.fit(X_train, y_train)\n",
            "\n",
            "# Predict on test set\n",
            "y_pred = model.predict(X_test)\n",
            "\n",
            "# Convert probabilities into binary outcomes\n",
            "y_pred_binary = (y_pred > 0.5).astype(int)\n",
            "\n",
            "# Print Accuracy Score\n",
            "print(\"Accuracy Score: \", accuracy_score(y_test, y_pred_binary))\n",
            "\n",
            "# Plot Confusion Matrix\n",
            "cm = confusion_matrix(y_test, y_pred_binary)\n",
            "sns.heatmap(cm, annot=True, fmt='d')\n",
            "\n",
            "plt.title('Confusion Matrix')\n",
            "plt.xlabel('Predicted')\n",
            "plt.ylabel('Actual')\n",
            "plt.show()\n",
            "```\u001b[0mAccuracy Score:  0.7467532467532467\n"
          ]
        },
        {
          "output_type": "display_data",
          "data": {
            "text/plain": [
              "<Figure size 640x480 with 2 Axes>"
            ],
            "image/png": "[encoded data removed]"
          },
          "metadata": {}
        },
        {
          "output_type": "stream",
          "name": "stdout",
          "text": [
            "\n",
            "Observation: \u001b[36;1m\u001b[1;3m\u001b[0m\n",
            "Thought:\u001b[32;1m\u001b[1;3mThe Logistic Regression model has been trained and evaluated. The accuracy score and confusion matrix have been printed and plotted. The accuracy score gives a measure of how well the model has performed in predicting the outcomes. The confusion matrix provides a visual representation of the model's performance, showing the true positives, true negatives, false positives, and false negatives. It can be used to calculate precision, recall, F1-score, and support. The performance of the model can be further improved by tuning the hyperparameters, using feature selection or extraction, or trying different models.\n",
            "Final Answer: The Logistic Regression model has been successfully implemented and evaluated. The accuracy score and the confusion matrix have been produced. The accuracy score provides a measure of how well the model performed on the test set. The confusion matrix provides a visual representation of the model's performance in terms of false positives, false negatives, true positives, and true negatives.\u001b[0m\n",
            "\n",
            "\u001b[1m> Finished chain.\u001b[0m\n"
          ]
        }
      ]
    },
    {
      "cell_type": "markdown",
      "source": [
        "## **Conclusions**\n",
        "\n",
        "This learning notebook is a good demonstration of the capabilities of LangChain agents when they work in conjunction with a high-quality LLM, such as GPT-4. In general, experimentation is required with the framing of the exact user query prompt depending on the output required and the exact model being used (while GPT-4 works well and is subsequently a costlier model to use per API call due to its compute size and quality of NLU, weaker OpenAI models such as GPT-4 Turbo or GPT-3.5 Turbo may not give the same quality of results). There are other use cases that LangChain agents have been developed for, such as Database Natural Language Querying and Retrieval-Augmented Generation, which follow a similar structure and allow us to simply give Natural Language queries and commands to obtain the code-oriented results we would expect."
      ],
      "metadata": {
        "id": "QBYtXAEJoGQJ"
      }
    }
  ]
}